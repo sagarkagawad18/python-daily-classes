{
  "nbformat": 4,
  "nbformat_minor": 0,
  "metadata": {
    "colab": {
      "provenance": []
    },
    "kernelspec": {
      "name": "python3",
      "display_name": "Python 3"
    },
    "language_info": {
      "name": "python"
    }
  },
  "cells": [
    {
      "cell_type": "code",
      "execution_count": null,
      "metadata": {
        "colab": {
          "base_uri": "https://localhost:8080/"
        },
        "id": "dtCIWXBTb3oT",
        "outputId": "0bc8d48f-4353-4943-825b-4abb6629d81f"
      },
      "outputs": [
        {
          "output_type": "stream",
          "name": "stdout",
          "text": [
            "6\n"
          ]
        }
      ],
      "source": [
        "# Adress = 2010\n",
        "\n",
        "print(3+3)"
      ]
    },
    {
      "cell_type": "code",
      "source": [
        "example=(1,\"sharath\",3.12,False,1)\n",
        "print(example)\n",
        "print(len(example))\n",
        "print(type(example))\n",
        "print(example.count(1))\n",
        "print(example[0:3])\n",
        "print(example[4])\n",
        "print(example[-1])"
      ],
      "metadata": {
        "colab": {
          "base_uri": "https://localhost:8080/"
        },
        "id": "PKE1ONAme3ZT",
        "outputId": "68616a8d-6c0c-4b51-ad8b-1eb77b4309ec"
      },
      "execution_count": null,
      "outputs": [
        {
          "output_type": "stream",
          "name": "stdout",
          "text": [
            "(1, 'sharath', 3.12, False, 1)\n",
            "5\n",
            "<class 'tuple'>\n",
            "2\n",
            "(1, 'sharath', 3.12)\n",
            "1\n",
            "1\n"
          ]
        }
      ]
    },
    {
      "cell_type": "markdown",
      "source": [
        "Number = (2,4,7,9,3,9,3,2)\n",
        "print(Number)\n",
        "Add = (2,4,5,7)\n",
        "print(Number + Add)\n",
        "\n",
        "print((Add * 4))"
      ],
      "metadata": {
        "id": "RGmZPsLicbNs"
      }
    },
    {
      "cell_type": "code",
      "source": [
        "example = {1,1,2,3,3,4,5}\n",
        "print(example)\n",
        "print(type(example))\n",
        "print(len(example))\n",
        "example.add(10)\n",
        "print(example)\n",
        "example.add(\"BKC\")\n",
        "print(example)\n",
        "example = {1,2,2,3,4,4,5,6,7}\n",
        "print(example)\n",
        "#print(type(example))\n",
        "print(len(example))\n",
        "example.add(\"BKC\")\n",
        "print(example)\n",
        "example.add(33.14)\n",
        "print(example)\n",
        "example.add(\"True\")\n",
        "print(example)\n",
        "example.remove(\"True\")\n",
        "print(example)\n",
        "print(example.pop())\n",
        "print(example)\n"
      ],
      "metadata": {
        "colab": {
          "base_uri": "https://localhost:8080/"
        },
        "id": "ol4I7fujoQsu",
        "outputId": "1dad25c1-c6cc-4e0e-b25c-22d3445e1b38"
      },
      "execution_count": null,
      "outputs": [
        {
          "output_type": "stream",
          "name": "stdout",
          "text": [
            "{1, 2, 3, 4, 5}\n",
            "<class 'set'>\n",
            "5\n",
            "{1, 2, 3, 4, 5, 10}\n",
            "{'BKC', 1, 2, 3, 4, 5, 10}\n",
            "{1, 2, 3, 4, 5, 6, 7}\n",
            "7\n",
            "{1, 2, 3, 4, 5, 6, 7, 'BKC'}\n",
            "{1, 2, 3, 4, 5, 6, 7, 33.14, 'BKC'}\n",
            "{1, 2, 3, 4, 5, 6, 7, 33.14, 'BKC', 'True'}\n",
            "{1, 2, 3, 4, 5, 6, 7, 33.14, 'BKC'}\n",
            "1\n",
            "{2, 3, 4, 5, 6, 7, 33.14, 'BKC'}\n"
          ]
        }
      ]
    },
    {
      "cell_type": "code",
      "source": [
        "first = {1,2,3,4,4,2}\n",
        "second = {3,5,4,6}\n",
        "print( first | second)\n",
        "print(first.union(second))\n",
        "\n",
        "print(first & second)\n",
        "print(first.intersection(second))\n",
        "print(first.difference(second))\n",
        "print(second - first)\n"
      ],
      "metadata": {
        "colab": {
          "base_uri": "https://localhost:8080/"
        },
        "id": "4CPqmdhBthRF",
        "outputId": "e0d88111-6a3b-4299-ab60-85a42fb44434"
      },
      "execution_count": null,
      "outputs": [
        {
          "output_type": "stream",
          "name": "stdout",
          "text": [
            "{1, 2, 3, 4, 5, 6}\n",
            "{1, 2, 3, 4, 5, 6}\n",
            "{3, 4}\n",
            "{3, 4}\n",
            "{1, 2}\n",
            "{5, 6}\n"
          ]
        }
      ]
    },
    {
      "cell_type": "code",
      "source": [
        "from collections.abc import MutableMapping\n",
        "Dic = {\"roll_number\" : 201,\n",
        "       \"Name\" : \"Basavaraj\",\n",
        "       \"Adress\" : \"Raichur\",\n",
        "       \"CGPA\" : 7.53,\n",
        "       \"course\" : \"MCA\",\n",
        "       \"Year\" : 2022\n",
        "       }\n",
        "print(Dic)\n",
        "print(len(Dic))\n",
        "Dic[\"Gender\"] = \"Male\"\n",
        "print(Dic)\n",
        "Dic[\"Number\"] = 9898989898\n",
        "print(Dic)\n",
        "Dic[\"college\"] = \"BKC\"\n",
        "print(Dic)\n",
        "Dic[\"college\"] = \"sainiketan\"\n",
        "print(Dic)\n",
        "del Dic[\"Gender\"]\n",
        "print(Dic)\n",
        "Dic[\"Gender\"] = \"Male\"\n",
        "print(Dic)\n",
        "print(Dic[\"college\"])\n",
        "Dic[\"Age\"]=25\n",
        "print(Dic[\"Age\"])\n",
        "Dic.pop(\"Adress\")\n",
        "print(Dic)\n",
        "Dic.popitem()\n",
        "print(Dic)\n",
        "print(Dic.keys())\n",
        "print(Dic.values())\n",
        "print(Dic.items())\n",
        "print(Dic.clear())\n"
      ],
      "metadata": {
        "colab": {
          "base_uri": "https://localhost:8080/"
        },
        "id": "tU9UeaZMxoEz",
        "outputId": "6a18de18-775f-4ed8-bd68-7fed6bbf729d"
      },
      "execution_count": null,
      "outputs": [
        {
          "output_type": "stream",
          "name": "stdout",
          "text": [
            "{'roll_number': 201, 'Name': 'Basavaraj', 'Adress': 'Raichur', 'CGPA': 7.53, 'course': 'MCA', 'Year': 2022}\n",
            "6\n",
            "{'roll_number': 201, 'Name': 'Basavaraj', 'Adress': 'Raichur', 'CGPA': 7.53, 'course': 'MCA', 'Year': 2022, 'Gender': 'Male'}\n",
            "{'roll_number': 201, 'Name': 'Basavaraj', 'Adress': 'Raichur', 'CGPA': 7.53, 'course': 'MCA', 'Year': 2022, 'Gender': 'Male', 'Number': 9898989898}\n",
            "{'roll_number': 201, 'Name': 'Basavaraj', 'Adress': 'Raichur', 'CGPA': 7.53, 'course': 'MCA', 'Year': 2022, 'Gender': 'Male', 'Number': 9898989898, 'college': 'BKC'}\n",
            "{'roll_number': 201, 'Name': 'Basavaraj', 'Adress': 'Raichur', 'CGPA': 7.53, 'course': 'MCA', 'Year': 2022, 'Gender': 'Male', 'Number': 9898989898, 'college': 'sainiketan'}\n",
            "{'roll_number': 201, 'Name': 'Basavaraj', 'Adress': 'Raichur', 'CGPA': 7.53, 'course': 'MCA', 'Year': 2022, 'Number': 9898989898, 'college': 'sainiketan'}\n",
            "{'roll_number': 201, 'Name': 'Basavaraj', 'Adress': 'Raichur', 'CGPA': 7.53, 'course': 'MCA', 'Year': 2022, 'Number': 9898989898, 'college': 'sainiketan', 'Gender': 'Male'}\n",
            "sainiketan\n",
            "25\n",
            "{'roll_number': 201, 'Name': 'Basavaraj', 'CGPA': 7.53, 'course': 'MCA', 'Year': 2022, 'Number': 9898989898, 'college': 'sainiketan', 'Gender': 'Male', 'Age': 25}\n",
            "{'roll_number': 201, 'Name': 'Basavaraj', 'CGPA': 7.53, 'course': 'MCA', 'Year': 2022, 'Number': 9898989898, 'college': 'sainiketan', 'Gender': 'Male'}\n",
            "dict_keys(['roll_number', 'Name', 'CGPA', 'course', 'Year', 'Number', 'college', 'Gender'])\n",
            "dict_values([201, 'Basavaraj', 7.53, 'MCA', 2022, 9898989898, 'sainiketan', 'Male'])\n",
            "dict_items([('roll_number', 201), ('Name', 'Basavaraj'), ('CGPA', 7.53), ('course', 'MCA'), ('Year', 2022), ('Number', 9898989898), ('college', 'sainiketan'), ('Gender', 'Male')])\n",
            "None\n"
          ]
        }
      ]
    },
    {
      "cell_type": "markdown",
      "source": [
        "from collections.abc import MutableMapping\n",
        "Dic = {\"roll_number\" : 145,\n",
        "       \"Name\" : \"Sagar\",\n",
        "       \"Adress\" : \"Athani\",\n",
        "       \"CGPA\" : 45.12,\n",
        "       \"course\" : \"MCA\",\n",
        "       \"Year\" : 2027\n",
        "       }\n",
        "print(Dic)\n",
        "print(len(Dic))\n",
        "Dic[\"Gender\"] = \"Male\"\n",
        "print(Dic)\n",
        "Dic[\"Number\"] = 9741298445\n",
        "print(Dic)\n",
        "Dic[\"college\"] = \"HVH\"\n",
        "print(Dic)\n",
        "Dic[\"college\"] = \"sainiketan\"\n",
        "print(Dic)\n",
        "del Dic[\"Gender\"]\n",
        "print(Dic)\n",
        "Dic[\"Gender\"] = \"Male\"\n",
        "print(Dic)\n",
        "print(Dic[\"college\"])\n",
        "Dic[\"Age\"]=18\n",
        "print(Dic[\"Age\"])\n",
        "Dic.pop(\"Adress\")\n",
        "print(Dic)\n",
        "Dic.popitem()\n",
        "print(Dic)\n",
        "print(Dic.keys())\n",
        "print(Dic.values())\n",
        "print(Dic.items())\n",
        "print(Dic.clear())\n",
        "\n"
      ],
      "metadata": {
        "id": "vduzxYRZ7omW"
      }
    },
    {
      "cell_type": "code",
      "source": [
        "Employe = {\"Employe_id\":1001,\n",
        "           \"Employe_Name\":\"Sagar\",\n",
        "           \"contact_number\":9741298445,\n",
        "           \"Salary\":300000,\n",
        "           \"Email_id\":\"sagarkagawad@gmail.com\",\n",
        "           \"company\":\"Google\",\n",
        "           \"Employe_habbit\":\"gamming\",\n",
        "           }\n",
        "print(Employe)\n",
        "Employe[\"Country\"] = \"India\",\n",
        "print(Employe)\n",
        "Employe[\"Pin_code\"] = 591304\n",
        "print(Employe)\n",
        "print(type(Employe))\n",
        "print(len(Employe))\n",
        "print(Employe[\"Salary\"])\n",
        "Employe.pop(\"Email_id\")\n",
        "Employe[\"Department\"]=\"Developer\"\n",
        "print(Employe)\n",
        "print(len(Employe))\n",
        "Employe[\"Department\"] = \"Testing\"\n",
        "print(Employe)\n",
        "print(Employe.popitem())\n",
        "\n"
      ],
      "metadata": {
        "colab": {
          "base_uri": "https://localhost:8080/"
        },
        "id": "YT_eyjjc9nLe",
        "outputId": "c4608092-a4ee-40ca-fb01-ab4b17b5b584"
      },
      "execution_count": null,
      "outputs": [
        {
          "output_type": "stream",
          "name": "stdout",
          "text": [
            "{'Employe_id': 1001, 'Employe_Name': 'Sagar', 'contact_number': 9741298445, 'Salary': 300000, 'Email_id': 'sagarkagawad@gmail.com', 'company': 'Google', 'Employe_habbit': 'gamming'}\n",
            "{'Employe_id': 1001, 'Employe_Name': 'Sagar', 'contact_number': 9741298445, 'Salary': 300000, 'Email_id': 'sagarkagawad@gmail.com', 'company': 'Google', 'Employe_habbit': 'gamming', 'Country': ('India',)}\n",
            "{'Employe_id': 1001, 'Employe_Name': 'Sagar', 'contact_number': 9741298445, 'Salary': 300000, 'Email_id': 'sagarkagawad@gmail.com', 'company': 'Google', 'Employe_habbit': 'gamming', 'Country': ('India',), 'Pin_code': 591304}\n",
            "<class 'dict'>\n",
            "9\n",
            "300000\n",
            "{'Employe_id': 1001, 'Employe_Name': 'Sagar', 'contact_number': 9741298445, 'Salary': 300000, 'company': 'Google', 'Employe_habbit': 'gamming', 'Country': ('India',), 'Pin_code': 591304, 'Department': 'Developer'}\n",
            "9\n",
            "{'Employe_id': 1001, 'Employe_Name': 'Sagar', 'contact_number': 9741298445, 'Salary': 300000, 'company': 'Google', 'Employe_habbit': 'gamming', 'Country': ('India',), 'Pin_code': 591304, 'Department': 'Testing'}\n",
            "('Department', 'Testing')\n"
          ]
        }
      ]
    },
    {
      "cell_type": "code",
      "source": [
        "Name = { \" Name\" : \"Sagar\",\n",
        "         \"name\" : \"Sagar\",\n",
        "         \"F_name\" : \"Sagar\",\n",
        "         \"L_name\" : \"Sagar\",\n",
        "         }\n",
        "print(Name)\n"
      ],
      "metadata": {
        "colab": {
          "base_uri": "https://localhost:8080/"
        },
        "id": "K3Bf7iYuLb2o",
        "outputId": "aba5a40a-52e3-4624-b764-fb74ca6caf03"
      },
      "execution_count": null,
      "outputs": [
        {
          "output_type": "stream",
          "name": "stdout",
          "text": [
            "{' Name': 'Sagar', 'name': 'Sagar', 'F_name': 'Sagar', 'L_name': 'Sagar'}\n"
          ]
        }
      ]
    },
    {
      "cell_type": "code",
      "source": [
        "a=10\n",
        "b=3\n",
        "c=a/b\n",
        "print(type(a))\n",
        "print(type(b))\n",
        "print(a/b)\n",
        "print(type(c))\n",
        "print(type(a / b))\n"
      ],
      "metadata": {
        "colab": {
          "base_uri": "https://localhost:8080/"
        },
        "id": "nicTFxl0c10B",
        "outputId": "8d786f02-054c-49e6-ea98-652363036f48"
      },
      "execution_count": null,
      "outputs": [
        {
          "output_type": "stream",
          "name": "stdout",
          "text": [
            "<class 'int'>\n",
            "<class 'int'>\n",
            "3.3333333333333335\n",
            "<class 'float'>\n",
            "<class 'float'>\n"
          ]
        }
      ]
    },
    {
      "cell_type": "code",
      "source": [
        "a,b,c = 2.5,3.5,a+b\n",
        "print(a+b)\n",
        "print(type(a))\n",
        "print(type(b))\n",
        "print(type(c))\n"
      ],
      "metadata": {
        "colab": {
          "base_uri": "https://localhost:8080/"
        },
        "id": "9pZVc3NCezrZ",
        "outputId": "5b2f838b-06b7-465d-ccfb-00ac0057a7d1"
      },
      "execution_count": null,
      "outputs": [
        {
          "output_type": "stream",
          "name": "stdout",
          "text": [
            "6.0\n",
            "<class 'float'>\n",
            "<class 'float'>\n",
            "<class 'float'>\n"
          ]
        }
      ]
    },
    {
      "cell_type": "code",
      "source": [
        "#\n",
        "i = 20\n",
        "j = 5.5\n",
        "k = i+j\n",
        "print(type(k))"
      ],
      "metadata": {
        "id": "aF1_UVt_gHP6",
        "colab": {
          "base_uri": "https://localhost:8080/"
        },
        "outputId": "80293918-9767-432a-840a-640b305a1f6d"
      },
      "execution_count": 152,
      "outputs": [
        {
          "output_type": "stream",
          "name": "stdout",
          "text": [
            "<class 'float'>\n"
          ]
        }
      ]
    },
    {
      "cell_type": "code",
      "source": [
        "# int -> float\n",
        "a = 49\n",
        "b = 7\n",
        "print(type(a / b))"
      ],
      "metadata": {
        "colab": {
          "base_uri": "https://localhost:8080/"
        },
        "id": "rzW-aNW0hXJQ",
        "outputId": "dd4685f4-904a-41d7-896b-f0a661a1198b"
      },
      "execution_count": 153,
      "outputs": [
        {
          "output_type": "stream",
          "name": "stdout",
          "text": [
            "<class 'float'>\n"
          ]
        }
      ]
    },
    {
      "cell_type": "code",
      "source": [
        "i = True\n",
        "j = 5\n",
        "print(type(i))\n",
        "print(type(i+j))"
      ],
      "metadata": {
        "colab": {
          "base_uri": "https://localhost:8080/"
        },
        "id": "c4BgIFkYiFlX",
        "outputId": "d517c722-70e1-414a-d09a-4d0fa71b6d2b"
      },
      "execution_count": 155,
      "outputs": [
        {
          "output_type": "stream",
          "name": "stdout",
          "text": [
            "<class 'bool'>\n",
            "<class 'int'>\n"
          ]
        }
      ]
    },
    {
      "cell_type": "code",
      "source": [
        "M = 2.9\n",
        "N = False\n",
        "O = M - N\n",
        "print(type(O))\n",
        "\n",
        "P = True\n",
        "Q = False\n",
        "R = P + Q\n",
        "print(type(R))\n",
        "\n",
        "S = 2.6\n",
        "T = False\n",
        "print(type(S * T))\n"
      ],
      "metadata": {
        "colab": {
          "base_uri": "https://localhost:8080/"
        },
        "id": "KkABUhsLinlG",
        "outputId": "27b5ead8-4295-4ffa-9169-e7c0ab795f76"
      },
      "execution_count": 159,
      "outputs": [
        {
          "output_type": "stream",
          "name": "stdout",
          "text": [
            "<class 'float'>\n",
            "<class 'int'>\n",
            "<class 'float'>\n"
          ]
        }
      ]
    },
    {
      "cell_type": "code",
      "source": [
        "num = 3.12\n",
        "print(type(num))\n",
        "add = int(num)\n",
        "print(type(add))\n",
        "num = float(add)\n",
        "print(type(num))\n",
        "\n",
        "Num = \"101\"\n",
        "print(type(Num))\n",
        "add = int(Num)\n",
        "print(type(add))\n",
        "\n",
        "Demo = 9.99\n",
        "print(type(Demo))\n",
        "\n",
        "print(type(str(Demo)))\n",
        "\n",
        "Demo = False\n",
        "print(type(Demo))\n",
        "\n",
        "print(type(float(Demo))\n",
        "\n",
        "\n"
      ],
      "metadata": {
        "colab": {
          "base_uri": "https://localhost:8080/"
        },
        "id": "geZRk1KOlSEY",
        "outputId": "127c5646-5cd7-4995-8560-f71a7c54ab13"
      },
      "execution_count": 180,
      "outputs": [
        {
          "output_type": "stream",
          "name": "stdout",
          "text": [
            "<class 'float'>\n",
            "<class 'int'>\n",
            "<class 'float'>\n",
            "<class 'str'>\n",
            "<class 'int'>\n",
            "<class 'float'>\n",
            "<class 'str'>\n",
            "<class 'bool'>\n",
            "<class 'float'>\n"
          ]
        }
      ]
    },
    {
      "cell_type": "code",
      "source": [
        "Num1 = \"Basavaraj\"\n",
        "print(type(Num1))\n",
        "\n",
        "Ex1 = list(Num1)\n",
        "print(type(Ex1))\n"
      ],
      "metadata": {
        "colab": {
          "base_uri": "https://localhost:8080/"
        },
        "id": "bF0qeIg-u87B",
        "outputId": "0df3e2a5-df78-4a44-e4dd-b88fd447a756"
      },
      "execution_count": 183,
      "outputs": [
        {
          "output_type": "stream",
          "name": "stdout",
          "text": [
            "<class 'str'>\n",
            "<class 'list'>\n"
          ]
        }
      ]
    },
    {
      "cell_type": "code",
      "source": [
        "a = (10,20)\n",
        "print(type(list(a)))"
      ],
      "metadata": {
        "colab": {
          "base_uri": "https://localhost:8080/"
        },
        "id": "I7I80tNyvp6Q",
        "outputId": "3aa0c0ab-4f67-458d-cfb4-2103f2d34fd2"
      },
      "execution_count": 185,
      "outputs": [
        {
          "output_type": "stream",
          "name": "stdout",
          "text": [
            "<class 'list'>\n"
          ]
        }
      ]
    },
    {
      "cell_type": "code",
      "source": [
        "a = (1,2,3,4,5)\n",
        "print(type(list(a)))"
      ],
      "metadata": {
        "colab": {
          "base_uri": "https://localhost:8080/"
        },
        "id": "FlERWAGawveR",
        "outputId": "11122198-1dea-41f7-e5b4-6c4e5ff1d48e"
      },
      "execution_count": 191,
      "outputs": [
        {
          "output_type": "stream",
          "name": "stdout",
          "text": [
            "<class 'list'>\n"
          ]
        }
      ]
    },
    {
      "cell_type": "code",
      "source": [
        "a = (1,2)\n",
        "print(type(list(a)))"
      ],
      "metadata": {
        "colab": {
          "base_uri": "https://localhost:8080/"
        },
        "id": "di9GHQy_w_4o",
        "outputId": "8a0a3094-4196-471d-d268-a19daf4a9cf3"
      },
      "execution_count": 187,
      "outputs": [
        {
          "output_type": "stream",
          "name": "stdout",
          "text": [
            "<class 'list'>\n"
          ]
        }
      ]
    },
    {
      "cell_type": "code",
      "source": [
        "a = (1,2)\n",
        "print(type(tuple(a)))\n",
        "\n",
        "a = (10)"
      ],
      "metadata": {
        "colab": {
          "base_uri": "https://localhost:8080/"
        },
        "id": "mFRrz4l7ynTd",
        "outputId": "668e5de0-16f6-4ebf-b471-bdb8a860b750"
      },
      "execution_count": 188,
      "outputs": [
        {
          "output_type": "stream",
          "name": "stdout",
          "text": [
            "<class 'tuple'>\n"
          ]
        }
      ]
    },
    {
      "cell_type": "code",
      "source": [
        "a = (10,20)\n",
        "print(type(tuple(a)))"
      ],
      "metadata": {
        "colab": {
          "base_uri": "https://localhost:8080/"
        },
        "id": "JN2nk5dJy_FR",
        "outputId": "89556003-c5b8-4afc-f5c8-5112ffca23f3"
      },
      "execution_count": 189,
      "outputs": [
        {
          "output_type": "stream",
          "name": "stdout",
          "text": [
            "<class 'tuple'>\n"
          ]
        }
      ]
    },
    {
      "cell_type": "code",
      "source": [
        "\n",
        "print(\"a = 20 , b = 10\")"
      ],
      "metadata": {
        "colab": {
          "base_uri": "https://localhost:8080/"
        },
        "id": "UA-G-DkhzR_Z",
        "outputId": "3799c6b2-dac1-497b-94c2-8d6fc68ee2b2"
      },
      "execution_count": 210,
      "outputs": [
        {
          "output_type": "stream",
          "name": "stdout",
          "text": [
            "a = 20 , b = 10\n"
          ]
        }
      ]
    },
    {
      "cell_type": "code",
      "source": [
        "Num3 = ((\"Name\",\"Sagar\"),(\"Age\",25))\n",
        "print(type(Num3))"
      ],
      "metadata": {
        "colab": {
          "base_uri": "https://localhost:8080/"
        },
        "id": "rEZ_duSG1TNR",
        "outputId": "baddb743-8276-4974-ce06-efce074bddf4"
      },
      "execution_count": 214,
      "outputs": [
        {
          "output_type": "stream",
          "name": "stdout",
          "text": [
            "<class 'tuple'>\n"
          ]
        }
      ]
    },
    {
      "cell_type": "code",
      "source": [
        "Num4 = {(\"Roll_number\",501),(\"Section\",\"c\")}\n",
        "print(type(Num4))"
      ],
      "metadata": {
        "colab": {
          "base_uri": "https://localhost:8080/"
        },
        "id": "TLRqlzhj3Fwa",
        "outputId": "bd67dba1-5eff-4214-cb70-491f2c808c08"
      },
      "execution_count": 216,
      "outputs": [
        {
          "output_type": "stream",
          "name": "stdout",
          "text": [
            "<class 'set'>\n"
          ]
        }
      ]
    },
    {
      "cell_type": "code",
      "source": [
        "Ex4 = dict(Num4)\n",
        "print(type(Ex4))"
      ],
      "metadata": {
        "colab": {
          "base_uri": "https://localhost:8080/"
        },
        "id": "JYtegxxt4dzq",
        "outputId": "d2f5833a-b44d-4ed3-b763-48599ca22245"
      },
      "execution_count": 217,
      "outputs": [
        {
          "output_type": "stream",
          "name": "stdout",
          "text": [
            "<class 'dict'>\n"
          ]
        }
      ]
    },
    {
      "cell_type": "code",
      "source": [
        "A = 10,\n",
        "B = 20\n",
        "print(\"Before Swaping\")\n",
        "print(\"A = \",A,\"B = \",B)\n",
        "print(\"After Swaping\")\n",
        "temp = A\n",
        "A = B\n",
        "B = temp\n",
        "print(\"A = \",A,\"B = \",B)\n"
      ],
      "metadata": {
        "colab": {
          "base_uri": "https://localhost:8080/"
        },
        "id": "u7YrJhpk77bJ",
        "outputId": "c8bd6bdc-6d0d-4c1b-c6c0-43b0cb29624b"
      },
      "execution_count": 226,
      "outputs": [
        {
          "output_type": "stream",
          "name": "stdout",
          "text": [
            "Before Swaping\n",
            "A =  (10,) B =  20\n",
            "After Swaping\n",
            "A =  20 B =  (10,)\n"
          ]
        }
      ]
    }
  ]
}