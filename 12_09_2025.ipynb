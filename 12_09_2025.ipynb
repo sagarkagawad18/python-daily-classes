{
  "nbformat": 4,
  "nbformat_minor": 0,
  "metadata": {
    "colab": {
      "provenance": []
    },
    "kernelspec": {
      "name": "python3",
      "display_name": "Python 3"
    },
    "language_info": {
      "name": "python"
    }
  },
  "cells": [
    {
      "cell_type": "code",
      "source": [
        "                                                                   print(\"hello world\")"
      ],
      "metadata": {
        "colab": {
          "base_uri": "https://localhost:8080/"
        },
        "id": "-C6Zp6ImPUvM",
        "outputId": "2697109f-c42c-4b5f-82a6-a9acd9cceb79"
      },
      "execution_count": 2,
      "outputs": [
        {
          "output_type": "stream",
          "name": "stdout",
          "text": [
            "hello world\n"
          ]
        }
      ]
    },
    {
      "cell_type": "code",
      "source": [
        "print(\"good morning\")"
      ],
      "metadata": {
        "colab": {
          "base_uri": "https://localhost:8080/"
        },
        "id": "P87p4RU5PyLk",
        "outputId": "f58f5ea2-6547-4067-dc25-f4e393a50e2c"
      },
      "execution_count": 3,
      "outputs": [
        {
          "output_type": "stream",
          "name": "stdout",
          "text": [
            "good morning\n"
          ]
        }
      ]
    },
    {
      "cell_type": "code",
      "source": [
        "print(\"b.k college chikodi\")"
      ],
      "metadata": {
        "colab": {
          "base_uri": "https://localhost:8080/"
        },
        "id": "zIrfDVUPQAos",
        "outputId": "6addd6ea-4705-42a7-ba85-8f4f99843ac5"
      },
      "execution_count": 4,
      "outputs": [
        {
          "output_type": "stream",
          "name": "stdout",
          "text": [
            "b.k college chikodi\n"
          ]
        }
      ]
    },
    {
      "cell_type": "code",
      "source": [
        "print(\"sagar\")"
      ],
      "metadata": {
        "colab": {
          "base_uri": "https://localhost:8080/"
        },
        "id": "5pEgMKlYQN-E",
        "outputId": "4f1d5677-9f41-43ad-fd41-4069d61279ea"
      },
      "execution_count": 5,
      "outputs": [
        {
          "output_type": "stream",
          "name": "stdout",
          "text": [
            "sagar\n"
          ]
        }
      ]
    },
    {
      "cell_type": "code",
      "source": [
        "print(5+5)"
      ],
      "metadata": {
        "colab": {
          "base_uri": "https://localhost:8080/"
        },
        "id": "za6YCyIFRQeL",
        "outputId": "9e082e52-3ee8-46eb-d3a1-c25b3b2d6a42"
      },
      "execution_count": 7,
      "outputs": [
        {
          "output_type": "stream",
          "name": "stdout",
          "text": [
            "10\n"
          ]
        }
      ]
    },
    {
      "cell_type": "code",
      "source": [
        "a = 10\n",
        "print(a)"
      ],
      "metadata": {
        "colab": {
          "base_uri": "https://localhost:8080/"
        },
        "id": "vCCAoVjBnkxf",
        "outputId": "000efb66-06dd-4cf6-df1e-f789815dced7"
      },
      "execution_count": 11,
      "outputs": [
        {
          "output_type": "stream",
          "name": "stdout",
          "text": [
            "10\n"
          ]
        }
      ]
    },
    {
      "cell_type": "code",
      "source": [
        "print(\"hello world \" * 3)"
      ],
      "metadata": {
        "colab": {
          "base_uri": "https://localhost:8080/"
        },
        "id": "tknlM_27oyo1",
        "outputId": "dc212508-f983-4adf-b5c6-d578ff6bc979"
      },
      "execution_count": 12,
      "outputs": [
        {
          "output_type": "stream",
          "name": "stdout",
          "text": [
            "hello world hello world hello world \n"
          ]
        }
      ]
    },
    {
      "cell_type": "code",
      "source": [
        "print(100/3)"
      ],
      "metadata": {
        "colab": {
          "base_uri": "https://localhost:8080/"
        },
        "id": "BFtE2SoKpcOl",
        "outputId": "b1b68702-1124-447f-970d-cdb28d3637db"
      },
      "execution_count": 15,
      "outputs": [
        {
          "output_type": "stream",
          "name": "stdout",
          "text": [
            "33.333333333333336\n"
          ]
        }
      ]
    },
    {
      "cell_type": "code",
      "source": [
        "print(\"python programming language \\n\" * 5)"
      ],
      "metadata": {
        "colab": {
          "base_uri": "https://localhost:8080/"
        },
        "id": "IRzWW4mdp9xz",
        "outputId": "86fbc84d-c016-4fd5-f74d-d0446d3f9fa2"
      },
      "execution_count": 16,
      "outputs": [
        {
          "output_type": "stream",
          "name": "stdout",
          "text": [
            "python programming language \n",
            "python programming language \n",
            "python programming language \n",
            "python programming language \n",
            "python programming language \n",
            "\n"
          ]
        }
      ]
    },
    {
      "cell_type": "code",
      "source": [
        "print(\"my name is sagar i am from athani now i am learning in bk college chikodi i have finished my 2nd pu in sainiketan clg athani\")"
      ],
      "metadata": {
        "colab": {
          "base_uri": "https://localhost:8080/"
        },
        "id": "fGVdgMu4qg8v",
        "outputId": "1d4bac31-ec57-42e9-b67a-be5da664eee5"
      },
      "execution_count": 17,
      "outputs": [
        {
          "output_type": "stream",
          "name": "stdout",
          "text": [
            "my name is sagar i am from athani now i am learning in bk college chikodi i have finished my 2nd pu in sainiketan clg athani\n"
          ]
        }
      ]
    },
    {
      "cell_type": "code",
      "source": [
        "print(\"hello\" + \"world\")"
      ],
      "metadata": {
        "colab": {
          "base_uri": "https://localhost:8080/"
        },
        "id": "OPhxb214sAGD",
        "outputId": "7d9dd4ca-373d-4c41-b28b-8487a6ad5192"
      },
      "execution_count": 18,
      "outputs": [
        {
          "output_type": "stream",
          "name": "stdout",
          "text": [
            "helloworld\n"
          ]
        }
      ]
    },
    {
      "cell_type": "code",
      "source": [
        "print(\"good morning\\n\" * 10)"
      ],
      "metadata": {
        "colab": {
          "base_uri": "https://localhost:8080/"
        },
        "id": "rtf0ICkNtF90",
        "outputId": "95be805d-e3ca-4e6c-845f-7aa6015d97a4"
      },
      "execution_count": 20,
      "outputs": [
        {
          "output_type": "stream",
          "name": "stdout",
          "text": [
            "good morning\n",
            "good morning\n",
            "good morning\n",
            "good morning\n",
            "good morning\n",
            "good morning\n",
            "good morning\n",
            "good morning\n",
            "good morning\n",
            "good morning\n",
            "\n"
          ]
        }
      ]
    },
    {
      "cell_type": "code",
      "source": [
        "print(\"kannada = 30\\n ic = 17\\n c = 30\\n DBMS = 30\\n english = 29\\n account = 30\\n\")"
      ],
      "metadata": {
        "colab": {
          "base_uri": "https://localhost:8080/"
        },
        "id": "O7tfu3K3vEpc",
        "outputId": "0e26fe4d-9006-4d44-f450-196bc84a77e7"
      },
      "execution_count": 21,
      "outputs": [
        {
          "output_type": "stream",
          "name": "stdout",
          "text": [
            "kannada = 30\n",
            " ic = 17\n",
            " c = 30\n",
            " DBMS = 30\n",
            " english = 29\n",
            " account = 30\n",
            "\n"
          ]
        }
      ]
    },
    {
      "cell_type": "code",
      "source": [
        "_N_A_M_E = \"Computer\"\n",
        "print(_N_A_M_E)"
      ],
      "metadata": {
        "colab": {
          "base_uri": "https://localhost:8080/"
        },
        "id": "wIN2sZ3T2MlQ",
        "outputId": "28bdb077-c82c-4f97-da94-9ab83e07d74d"
      },
      "execution_count": 22,
      "outputs": [
        {
          "output_type": "stream",
          "name": "stdout",
          "text": [
            "Computer\n"
          ]
        }
      ]
    },
    {
      "cell_type": "code",
      "source": [
        "AGE = 25\n",
        "age = 25\n",
        "print(AGE, age)"
      ],
      "metadata": {
        "colab": {
          "base_uri": "https://localhost:8080/"
        },
        "id": "OFVhO8re2prD",
        "outputId": "74cb52d7-86b1-41dd-c200-528c97ae7715"
      },
      "execution_count": 23,
      "outputs": [
        {
          "output_type": "stream",
          "name": "stdout",
          "text": [
            "25 25\n"
          ]
        }
      ]
    },
    {
      "cell_type": "code",
      "source": [
        "x = 10\n",
        "X = 20\n",
        "print(x, X)"
      ],
      "metadata": {
        "colab": {
          "base_uri": "https://localhost:8080/"
        },
        "id": "A33wqWRv22W8",
        "outputId": "90efaed8-c960-45d6-e74e-b5de6af1da94"
      },
      "execution_count": 24,
      "outputs": [
        {
          "output_type": "stream",
          "name": "stdout",
          "text": [
            "10 20\n"
          ]
        }
      ]
    },
    {
      "cell_type": "code",
      "source": [
        "y = 3.24\n",
        "print(y)"
      ],
      "metadata": {
        "colab": {
          "base_uri": "https://localhost:8080/"
        },
        "id": "GMSYbnde3S1s",
        "outputId": "9d2997d3-58b1-4a5e-826e-a7c0b771f878"
      },
      "execution_count": 25,
      "outputs": [
        {
          "output_type": "stream",
          "name": "stdout",
          "text": [
            "3.24\n"
          ]
        }
      ]
    },
    {
      "cell_type": "code",
      "source": [
        "yes = True\n",
        "print(yes)"
      ],
      "metadata": {
        "colab": {
          "base_uri": "https://localhost:8080/"
        },
        "id": "nATZ0JhL3Zud",
        "outputId": "63548f24-c372-4276-bc77-429c41164b81"
      },
      "execution_count": 26,
      "outputs": [
        {
          "output_type": "stream",
          "name": "stdout",
          "text": [
            "True\n"
          ]
        }
      ]
    },
    {
      "cell_type": "code",
      "source": [
        "name = 121\n",
        "print(name)"
      ],
      "metadata": {
        "colab": {
          "base_uri": "https://localhost:8080/"
        },
        "id": "idoWLNGo3nA9",
        "outputId": "87be410a-a315-4ec7-bdec-c89f2190ff00"
      },
      "execution_count": 27,
      "outputs": [
        {
          "output_type": "stream",
          "name": "stdout",
          "text": [
            "121\n"
          ]
        }
      ]
    },
    {
      "cell_type": "code",
      "source": [
        "NA_12_ME = \"CHIKODI\"\n",
        "print(NA_12_ME)"
      ],
      "metadata": {
        "colab": {
          "base_uri": "https://localhost:8080/"
        },
        "id": "whygVtLr4K1z",
        "outputId": "dd7e4fea-c5ab-4220-b2d7-e23cc7663a11"
      },
      "execution_count": 28,
      "outputs": [
        {
          "output_type": "stream",
          "name": "stdout",
          "text": [
            "CHIKODI\n"
          ]
        }
      ]
    },
    {
      "cell_type": "code",
      "source": [
        "name = \"college\"\n",
        "per = 67.34\n",
        "print(name, per)"
      ],
      "metadata": {
        "colab": {
          "base_uri": "https://localhost:8080/"
        },
        "id": "8d6C8Qbc4ZIE",
        "outputId": "4ec7fe27-f44d-40ec-d8de-bbffb6bddbc1"
      },
      "execution_count": 29,
      "outputs": [
        {
          "output_type": "stream",
          "name": "stdout",
          "text": [
            "college 67.34\n"
          ]
        }
      ]
    },
    {
      "cell_type": "code",
      "source": [
        "# My name is sagar, i'm studying in bkc college\n",
        "\n",
        "College = \"BKC College\"\n",
        "Name = \"sagar\"\n",
        "print(\"my name is sagar, i'm studying in bkc college\")"
      ],
      "metadata": {
        "colab": {
          "base_uri": "https://localhost:8080/"
        },
        "id": "Gya-qTH35UW1",
        "outputId": "bf3ca12c-278d-4e94-a9b9-8b09c4307eb0"
      },
      "execution_count": 41,
      "outputs": [
        {
          "output_type": "stream",
          "name": "stdout",
          "text": [
            "my name is sagar, i'm studying in bkc college\n"
          ]
        }
      ]
    },
    {
      "cell_type": "code",
      "source": [
        "# i have completed puc in sanketh pu college in the year of 2020, i got percentage id 85.33\n",
        "\n",
        "name = \"sanketh\"\n",
        "per = 85.33\n",
        "year = 2020\n",
        "\n",
        "print(\"i have completed puc in\",name,\"pu college in the year of \",year,\", i got percentage is \",per)"
      ],
      "metadata": {
        "colab": {
          "base_uri": "https://localhost:8080/"
        },
        "id": "GzAYk-068nPd",
        "outputId": "74cfdc07-1077-454a-e325-e4418f7ed180"
      },
      "execution_count": 55,
      "outputs": [
        {
          "output_type": "stream",
          "name": "stdout",
          "text": [
            "i have completed puc in sanketh pu college in the year of  2020 , i got percentage is  85.33\n"
          ]
        }
      ]
    },
    {
      "cell_type": "code",
      "source": [
        "# hello good evening, how are you, i'm fine, where are you from i'm from chikodi, so nice\n",
        "\n",
        "text = \"good evening\"\n",
        "adress = \"i'm from chikodi\"\n",
        "\n",
        "print(\"hello\",text,\"how are you, i'm fine, where are you from\", adress,\"so nice\")"
      ],
      "metadata": {
        "colab": {
          "base_uri": "https://localhost:8080/"
        },
        "id": "ktuaPj5fA0Bk",
        "outputId": "ff078c99-4e06-460e-a1bf-3a0b8ed27305"
      },
      "execution_count": 56,
      "outputs": [
        {
          "output_type": "stream",
          "name": "stdout",
          "text": [
            "hello good evening how are you, i'm fine, where are you from i'm from chikodi so nice\n"
          ]
        }
      ]
    }
  ]
}