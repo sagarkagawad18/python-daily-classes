{
  "nbformat": 4,
  "nbformat_minor": 0,
  "metadata": {
    "colab": {
      "provenance": []
    },
    "kernelspec": {
      "name": "python3",
      "display_name": "Python 3"
    },
    "language_info": {
      "name": "python"
    }
  },
  "cells": [
    {
      "cell_type": "code",
      "execution_count": 2,
      "metadata": {
        "colab": {
          "base_uri": "https://localhost:8080/"
        },
        "id": "fsozzj2GjRbi",
        "outputId": "d29f020e-cc30-4b7c-d1ae-31d12efa5d53"
      },
      "outputs": [
        {
          "output_type": "stream",
          "name": "stdout",
          "text": [
            "<class 'int'>\n",
            "<class 'str'>\n"
          ]
        }
      ],
      "source": [
        "# int - str\n",
        "s = 202\n",
        "print(type(s))\n",
        "print(type(str(s)))"
      ]
    },
    {
      "cell_type": "code",
      "source": [
        "a={1,1,2,3,3,4,5}\n",
        "print(a)"
      ],
      "metadata": {
        "colab": {
          "base_uri": "https://localhost:8080/"
        },
        "id": "QwljjzmuokUn",
        "outputId": "eac43b61-37b3-4bb4-982a-6f6bf8a6bc91"
      },
      "execution_count": 3,
      "outputs": [
        {
          "output_type": "stream",
          "name": "stdout",
          "text": [
            "{1, 2, 3, 4, 5}\n"
          ]
        }
      ]
    },
    {
      "cell_type": "code",
      "source": [
        "Example = [\"Laptop\", 39000,\"Window\",\"Lenovo\",\"Bengaluru\",\"Laptop\",39000,\"MAC\",\"Lenovo\",\"chikodi\"]\n",
        "print(Example)\n",
        "print(Example.count(\"Lenovo\"))"
      ],
      "metadata": {
        "colab": {
          "base_uri": "https://localhost:8080/"
        },
        "id": "lq-hlEmco7rU",
        "outputId": "213c5eb4-bdb1-4791-8ba2-e99d2e03602c"
      },
      "execution_count": 17,
      "outputs": [
        {
          "output_type": "stream",
          "name": "stdout",
          "text": [
            "['Laptop', 39000, 'Window', 'Lenovo', 'Bengaluru', 'Laptop', 39000, 'MAC', 'Lenovo', 'chikodi']\n",
            "2\n"
          ]
        }
      ]
    },
    {
      "cell_type": "code",
      "source": [
        "A = 10\n",
        "B = 20\n",
        "print(A + B)"
      ],
      "metadata": {
        "colab": {
          "base_uri": "https://localhost:8080/"
        },
        "id": "Usbp1fJaqAtV",
        "outputId": "653f14b3-2fde-4b99-ee9c-dd4ab451c92c"
      },
      "execution_count": 18,
      "outputs": [
        {
          "output_type": "stream",
          "name": "stdout",
          "text": [
            "30\n"
          ]
        }
      ]
    },
    {
      "cell_type": "code",
      "source": [
        "X = int(input(\"Enter X Value :\"))\n",
        "Y = int(input(\"Enter Y Value :\"))\n",
        "print(X + Y)"
      ],
      "metadata": {
        "colab": {
          "base_uri": "https://localhost:8080/"
        },
        "id": "K90yCbvAsYB5",
        "outputId": "6cbc1bdb-3253-4c84-d124-58bb6edd26de"
      },
      "execution_count": 26,
      "outputs": [
        {
          "output_type": "stream",
          "name": "stdout",
          "text": [
            "Enter X Value :10\n",
            "Enter Y Value :20\n",
            "30\n"
          ]
        }
      ]
    },
    {
      "cell_type": "code",
      "source": [
        "A = int(input(\"Enter X Value :\"))\n",
        "B = int(input(\"Enter Y Value :\"))\n",
        "print(\"Addition of\",X,\"and\",Y,\"Value is =\",X+Y)"
      ],
      "metadata": {
        "colab": {
          "base_uri": "https://localhost:8080/"
        },
        "id": "OkotzxyJtxzW",
        "outputId": "6b89bda5-f1da-4bdc-9be5-456b94d92978"
      },
      "execution_count": 40,
      "outputs": [
        {
          "output_type": "stream",
          "name": "stdout",
          "text": [
            "Enter X Value :10\n",
            "Enter Y Value :20\n",
            "Addition of 10 and 20 Value is = 30\n"
          ]
        }
      ]
    },
    {
      "cell_type": "code",
      "source": [
        "first = float(input(\"Enter first value : \"))\n",
        "second = float(input(\"Enter second value : \"))\n",
        "print(first * second)"
      ],
      "metadata": {
        "colab": {
          "base_uri": "https://localhost:8080/"
        },
        "id": "5W2WrUuiv1Fu",
        "outputId": "338764eb-e98c-4499-83f3-a39efa9f781b"
      },
      "execution_count": 41,
      "outputs": [
        {
          "output_type": "stream",
          "name": "stdout",
          "text": [
            "Enter first value : 10\n",
            "Enter second value : 5\n",
            "50.0\n"
          ]
        }
      ]
    },
    {
      "cell_type": "code",
      "source": [
        "first_name = input(\"Enter first name : \")\n",
        "last_name = input(\"Enter last name :\")\n",
        "print(first_name + \" \" +last_name)"
      ],
      "metadata": {
        "colab": {
          "base_uri": "https://localhost:8080/"
        },
        "id": "PsKccIgkwZ3n",
        "outputId": "e162939f-57ca-4bdf-e552-5ce8f4caa0ec"
      },
      "execution_count": 42,
      "outputs": [
        {
          "output_type": "stream",
          "name": "stdout",
          "text": [
            "Enter first name : Basavaraj\n",
            "Enter last name :uallagaddi\n",
            "Basavaraj uallagaddi\n"
          ]
        }
      ]
    },
    {
      "cell_type": "code",
      "source": [
        "x=100\n",
        "y=50\n",
        "print(f'adddition of {x} and {y} value is = {x+y}')\n",
        "print(f'division of {x} and {y} value is = {x/y}')"
      ],
      "metadata": {
        "colab": {
          "base_uri": "https://localhost:8080/"
        },
        "id": "l6HjOI-J2KnC",
        "outputId": "ba9bb6ea-e248-4cf4-a7e3-fbcc0c7f7883"
      },
      "execution_count": 48,
      "outputs": [
        {
          "output_type": "stream",
          "name": "stdout",
          "text": [
            "adddition of 100 and 50 value is = 150\n",
            "division of 100 and 50 value is = 2.0\n"
          ]
        }
      ]
    },
    {
      "cell_type": "code",
      "source": [
        "# Hi, Good morning my name is sagar, i have completed MCA in the year of 2022, currently i'm working in KLE BK College chikodi 58412\n",
        "name = \"sagar\"\n",
        "course = \"MCA\"\n",
        "year = 2022\n",
        "Department = \"BCA\"\n",
        "pincode = 584128\n",
        "\n",
        "print(f\"Good morning my name is\",name,\"i have completed\",course,\"in the year of\",year,\"currently i'm working in KLE BK College chikodi\",pincode)"
      ],
      "metadata": {
        "colab": {
          "base_uri": "https://localhost:8080/"
        },
        "id": "HyTmvRxY5P4o",
        "outputId": "c2f37cc8-3f2b-4551-93d6-c9f089115fc1"
      },
      "execution_count": 54,
      "outputs": [
        {
          "output_type": "stream",
          "name": "stdout",
          "text": [
            "Good morning my name is sagar i have completed MCA in the year of 2022 currently i'm working in KLE BK College chikodi 584128\n"
          ]
        }
      ]
    },
    {
      "cell_type": "code",
      "source": [
        "Num1 = int(input(\"Enter Num1 value :\"))\n",
        "Num2 = int(input(\"Enter Num2 value :\"))\n",
        "print(\"Addition of two numbers is :\",Num1 + Num2)\n",
        "print()\n",
        "print(\"Subtraction of two numbers is :\",Num1 - Num2)\n",
        "print()\n",
        "print(\"Multiplication of two numbers is :\",Num1 * Num2)\n",
        "print()\n",
        "print(\"Division of two numbers is :\",Num1 / Num2)\n",
        "print()\n",
        "print(\"Floor Division of two numbers is :\",Num1 // Num2)\n",
        "print()\n",
        "print(\"Modulus of two numbers is :\",Num1 % Num2)\n"
      ],
      "metadata": {
        "colab": {
          "base_uri": "https://localhost:8080/"
        },
        "id": "NUy3UphV7oC7",
        "outputId": "fb6b2407-7411-47d4-dbfc-6be985129e20"
      },
      "execution_count": 64,
      "outputs": [
        {
          "output_type": "stream",
          "name": "stdout",
          "text": [
            "Enter Num1 value :100\n",
            "Enter Num2 value :50\n",
            "Addition of two numbers is : 150\n",
            "\n",
            "Subtraction of two numbers is : 50\n",
            "\n",
            "Multiplication of two numbers is : 5000\n",
            "\n",
            "Division of two numbers is : 2.0\n",
            "\n",
            "Floor Division of two numbers is : 2\n",
            "\n",
            "Modulus of two numbers is : 0\n"
          ]
        }
      ]
    },
    {
      "cell_type": "code",
      "source": [
        "number1 = 35\n",
        "number2 = 40\n",
        "print(number1 > number2)\n",
        "print()\n",
        "print(number2 < number1)\n",
        "print()\n",
        "print(number1 == 35)\n",
        "print()\n",
        "print(number1 <= number2)\n",
        "print()\n",
        "print(number2 != 40)\n",
        "print()\n",
        "print(number2 >= 40)\n",
        "print()\n",
        "print(10 != 20)\n",
        "print()\n",
        "print(number1 == number2)\n",
        "print()\n",
        "print(number2 != number1)\n"
      ],
      "metadata": {
        "colab": {
          "base_uri": "https://localhost:8080/"
        },
        "id": "jg6fm9E9H7qM",
        "outputId": "5b54c600-bff9-4a2e-e5e2-fd23b591f87e"
      },
      "execution_count": 67,
      "outputs": [
        {
          "output_type": "stream",
          "name": "stdout",
          "text": [
            "False\n",
            "\n",
            "False\n",
            "\n",
            "True\n",
            "\n",
            "True\n",
            "\n",
            "False\n",
            "\n",
            "True\n",
            "\n",
            "True\n",
            "\n",
            "False\n",
            "\n",
            "True\n"
          ]
        }
      ]
    },
    {
      "cell_type": "code",
      "source": [
        "a = 20\n",
        "b = 35\n",
        "c = 13\n",
        "d = 10\n",
        "print(a==b and c < d)\n",
        "\n",
        "print(13!=c and d<c)\n",
        "\n",
        "print(b > a and d < c)\n",
        "print(20!=a and c==b)\n",
        "print(a<b or d==c)\n",
        "print((not(a<b)) and 100<200)\n",
        "\n",
        "print(35!= d or (not(20==a)))\n",
        "\n",
        "print(not(c <= b and (not(a <= c))))"
      ],
      "metadata": {
        "colab": {
          "base_uri": "https://localhost:8080/"
        },
        "id": "_-v3J_0gMpFv",
        "outputId": "ed8a5ff4-5b03-40c1-83e9-c1ab75f5e068"
      },
      "execution_count": 79,
      "outputs": [
        {
          "output_type": "stream",
          "name": "stdout",
          "text": [
            "False\n",
            "False\n",
            "True\n",
            "False\n",
            "True\n",
            "False\n",
            "True\n",
            "False\n"
          ]
        }
      ]
    },
    {
      "cell_type": "code",
      "source": [
        "X = 10\n",
        "print(X)\n",
        "\n",
        "X -= 2\n",
        "print(X)\n",
        "\n",
        "X *= 5\n",
        "print(X)\n",
        "\n",
        "X //= 3\n",
        "print(X)\n",
        "\n",
        "X **= 2\n",
        "print(X)\n",
        "\n",
        "X%=4\n",
        "print(X)\n",
        "\n",
        "X += 9\n",
        "print(X)\n",
        "\n",
        "X /= 3\n",
        "print(X)"
      ],
      "metadata": {
        "colab": {
          "base_uri": "https://localhost:8080/"
        },
        "id": "kzSI-lOxT0Sw",
        "outputId": "f674feae-e86d-454d-fd10-685f5fdd0cca"
      },
      "execution_count": 106,
      "outputs": [
        {
          "output_type": "stream",
          "name": "stdout",
          "text": [
            "10\n",
            "8\n",
            "40\n",
            "13\n",
            "169\n",
            "1\n",
            "10\n",
            "3.3333333333333335\n"
          ]
        }
      ]
    },
    {
      "cell_type": "code",
      "source": [
        "User_id = \"20MCA103\"\n",
        "Password = 1234\n",
        "if User_id == \"20MCA103\" and Password == 1234 :\n",
        "   print(\"Login Successfully\")"
      ],
      "metadata": {
        "colab": {
          "base_uri": "https://localhost:8080/"
        },
        "id": "cvxFKQqPqX8O",
        "outputId": "7df96653-2856-4c3d-9d5a-c7b97ec01f66"
      },
      "execution_count": 109,
      "outputs": [
        {
          "output_type": "stream",
          "name": "stdout",
          "text": [
            "Login Successfully\n"
          ]
        }
      ]
    },
    {
      "cell_type": "markdown",
      "source": [
        "Name = \"Sagar\"\n",
        "if Name <= \"BKC\" :\n",
        "  print(\"My name is Sagar\")"
      ],
      "metadata": {
        "id": "8OKjKAyAvt2A"
      }
    },
    {
      "cell_type": "code",
      "source": [
        "Num = int(input(\"Enter a number value :\"))\n",
        "if Num > 0:\n",
        "    print(\"Positive number\")\n",
        "else :\n",
        "     print(\"Negative number\")"
      ],
      "metadata": {
        "colab": {
          "base_uri": "https://localhost:8080/"
        },
        "id": "YxYSZnFlw0rf",
        "outputId": "fd60cb6c-3fe4-418d-a972-a042dde89098"
      },
      "execution_count": 117,
      "outputs": [
        {
          "output_type": "stream",
          "name": "stdout",
          "text": [
            "Enter a number value :99\n",
            "Positive number\n"
          ]
        }
      ]
    },
    {
      "cell_type": "code",
      "source": [
        "Num = int(input(\"Enter a number value :\"))\n",
        "if Num % 2 == 0 :\n",
        "  print(\"Even number\")\n",
        "else :\n",
        "     print(\"Odd number\")\n"
      ],
      "metadata": {
        "colab": {
          "base_uri": "https://localhost:8080/"
        },
        "id": "kmWFr1Hi07OG",
        "outputId": "85478060-ebd6-4db3-f254-4672314df450"
      },
      "execution_count": 119,
      "outputs": [
        {
          "output_type": "stream",
          "name": "stdout",
          "text": [
            "Enter a number value :99\n",
            "Odd number\n"
          ]
        }
      ]
    },
    {
      "cell_type": "code",
      "source": [
        "year = int(input(\"Enter a number value\"))\n",
        "if year % 4 == 0 :\n",
        "   print(\"Leap year\")\n",
        "else :\n",
        "    print(\"Not Leap year\")"
      ],
      "metadata": {
        "colab": {
          "base_uri": "https://localhost:8080/"
        },
        "id": "RXjl3yZ_3tVw",
        "outputId": "2f7f4725-4e5a-48d1-cc5c-d354cf24967c"
      },
      "execution_count": 123,
      "outputs": [
        {
          "output_type": "stream",
          "name": "stdout",
          "text": [
            "Enter a number value2027\n",
            "Not Leap year\n"
          ]
        }
      ]
    },
    {
      "cell_type": "code",
      "source": [
        "Age = int(input(\"Enter a number value\"))\n",
        "if Age >= 18 :\n",
        "  print(\"voter\")\n",
        "else :\n",
        "    print(\"non voter\")"
      ],
      "metadata": {
        "colab": {
          "base_uri": "https://localhost:8080/"
        },
        "id": "G34ReI8e4pz5",
        "outputId": "435d876f-f3b9-462e-f2d0-2402233e06df"
      },
      "execution_count": 129,
      "outputs": [
        {
          "output_type": "stream",
          "name": "stdout",
          "text": [
            "Enter a number value25\n",
            "voter\n"
          ]
        }
      ]
    },
    {
      "cell_type": "code",
      "source": [
        "Password = int(input(\"Enter a number value\"))\n",
        "if Password % 1234 == 0 :\n",
        "  print(\"login successful\")\n",
        "else :\n",
        "    print(\"incorrect password\")"
      ],
      "metadata": {
        "colab": {
          "base_uri": "https://localhost:8080/"
        },
        "id": "rjrbwNcB58VY",
        "outputId": "a7d041bb-6a72-4523-f131-205d1e8fce88"
      },
      "execution_count": 141,
      "outputs": [
        {
          "output_type": "stream",
          "name": "stdout",
          "text": [
            "Enter a number value1234\n",
            "login successful\n"
          ]
        }
      ]
    },
    {
      "cell_type": "code",
      "source": [
        "marks = int(input(\"Enter the marks:\"))\n",
        "if marks >= 80 :\n",
        "   print(\"distiction\")\n",
        "elif marks >= 60 :\n",
        "   print(\"first class\")\n",
        "elif marks >= 35 :\n",
        "   print(\"just pass\")\n",
        "else:\n",
        "   print(\"fail better luck next chance\")"
      ],
      "metadata": {
        "colab": {
          "base_uri": "https://localhost:8080/"
        },
        "id": "L9d9XXY07qdI",
        "outputId": "f2998e4e-89c4-426f-a39d-6e3425cf6646"
      },
      "execution_count": 158,
      "outputs": [
        {
          "output_type": "stream",
          "name": "stdout",
          "text": [
            "Enter the marks:77\n",
            "first class\n"
          ]
        }
      ]
    },
    {
      "cell_type": "code",
      "source": [
        "prize = input(\"Enter prize medal :\")\n",
        "if prize == \"Gold\" :\n",
        "    print(\"First prize\")\n",
        "elif prize == \"silver\" :\n",
        "    print(\"Second prize\")\n",
        "elif prize == \"Bronze\" :\n",
        "    print(\"Third prize\")\n",
        "elif prize == \"certificate\" :\n",
        "    print(\"Samadanakar bahuman\")\n",
        "else:\n",
        "    print(\"Better luck next time\")"
      ],
      "metadata": {
        "colab": {
          "base_uri": "https://localhost:8080/"
        },
        "id": "tY5ld0QPCLMA",
        "outputId": "c6d24875-fbf8-480c-e9a4-367a1632b84a"
      },
      "execution_count": 160,
      "outputs": [
        {
          "output_type": "stream",
          "name": "stdout",
          "text": [
            "Enter prize medal :Gold\n",
            "First prize\n"
          ]
        }
      ]
    },
    {
      "cell_type": "code",
      "source": [
        "Signal=input(\"Enter a Signal\")\n",
        "if Signal==\"Red\" :\n",
        "  print(\"Stop\")\n",
        "elif Signal==\"Yellow\" :\n",
        "  print(\"Ready\")\n",
        "elif Signal==\"Green\" :\n",
        "  print(\"Go\")\n",
        "else:\n",
        "  print(\"invalid colour\")"
      ],
      "metadata": {
        "colab": {
          "base_uri": "https://localhost:8080/"
        },
        "id": "Qm048zSUFd41",
        "outputId": "8612dd1c-ee37-44bc-f8c8-c46bdd79d45b"
      },
      "execution_count": 166,
      "outputs": [
        {
          "output_type": "stream",
          "name": "stdout",
          "text": [
            "Enter a SignalRed\n",
            "Stop\n"
          ]
        }
      ]
    }
  ]
}