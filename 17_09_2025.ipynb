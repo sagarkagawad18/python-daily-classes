{
  "nbformat": 4,
  "nbformat_minor": 0,
  "metadata": {
    "colab": {
      "provenance": []
    },
    "kernelspec": {
      "name": "python3",
      "display_name": "Python 3"
    },
    "language_info": {
      "name": "python"
    }
  },
  "cells": [
    {
      "cell_type": "code",
      "source": [
        "a, b, c = 25,35,40\n",
        "if a > b :\n",
        "   if a > c :\n",
        "       print(\"A is a largest number\")\n",
        "   else :\n",
        "       print(\"C is a largest number\")\n",
        "else :\n",
        "    if b > c :\n",
        "       print(\"B is a largest number\")\n",
        "    else :\n",
        "       print(\"C is a largest number\")\n",
        "\n"
      ],
      "metadata": {
        "colab": {
          "base_uri": "https://localhost:8080/"
        },
        "id": "pveElY1uv2b5",
        "outputId": "80262ad6-3efc-4265-ab7c-7be166a83be9"
      },
      "execution_count": null,
      "outputs": [
        {
          "output_type": "stream",
          "name": "stdout",
          "text": [
            "C is a largest number\n"
          ]
        }
      ]
    },
    {
      "cell_type": "code",
      "source": [
        "num = -5\n",
        "if num > 0 :\n",
        "   if num == 0 :\n",
        "     print(\"Zero value\")\n",
        "   else :\n",
        "     print(\"Positive number\")\n",
        "else :\n",
        "     print(\"Negative number\")"
      ],
      "metadata": {
        "colab": {
          "base_uri": "https://localhost:8080/"
        },
        "id": "J-yW1jvO4XDm",
        "outputId": "dd3d5341-bff5-4677-ba5c-8c3ff7a88734"
      },
      "execution_count": null,
      "outputs": [
        {
          "output_type": "stream",
          "name": "stdout",
          "text": [
            "Negative number\n"
          ]
        }
      ]
    },
    {
      "cell_type": "code",
      "source": [
        "num = int(input(\"Enter number value is :\"))\n",
        "if num >= 0 :\n",
        "   if num == 0 :\n",
        "     print(\"Zero value\")\n",
        "   else :\n",
        "     print(\"Positive number\")\n",
        "else :\n",
        "     print(\"Negative number\")"
      ],
      "metadata": {
        "colab": {
          "base_uri": "https://localhost:8080/"
        },
        "id": "xPBT5h5j6z8B",
        "outputId": "c4c6b61c-d451-4a44-daea-6eb51d09bbaa"
      },
      "execution_count": null,
      "outputs": [
        {
          "output_type": "stream",
          "name": "stdout",
          "text": [
            "Enter number value is :0\n",
            "Zero value\n"
          ]
        }
      ]
    },
    {
      "cell_type": "code",
      "source": [
        "# write a programe arithmatic operator using switch statement\n",
        "x, y = 10, 20\n",
        "option = input(\"Enter your choice option :\")\n",
        "match option :\n",
        "    case '+' :\n",
        "      print(\"Sum of values\", x + y)\n",
        "    case '-' :\n",
        "      print(\"Subtraction of values\", x-y)\n",
        "    case '*' :\n",
        "      print(\"Multiplication of values\",x*y)\n",
        "    case '/' :\n",
        "      print(\"Division of values\", x / y)\n",
        "    case '%' :\n",
        "      print(\"Modulus of values\", x % y)\n",
        "    case '!=' :\n",
        "      print(\"x is not equal to y\", x != y)\n",
        "    case _ :\n",
        "      print(\"Invalid operator\")"
      ],
      "metadata": {
        "colab": {
          "base_uri": "https://localhost:8080/"
        },
        "id": "VTd_FzxgEnQ4",
        "outputId": "ad35df55-f099-4041-b5fa-1d37505240a7"
      },
      "execution_count": null,
      "outputs": [
        {
          "output_type": "stream",
          "name": "stdout",
          "text": [
            "Enter your choice option :!=\n",
            "x is not equal to y True\n"
          ]
        }
      ]
    },
    {
      "cell_type": "code",
      "source": [
        "day = int(input(\"Enter a day number :\"))\n",
        "match day :\n",
        "    case 1 : print(\"monday\")\n",
        "    case 2 : print(\"tuesday\")\n",
        "    case 3 : print(\"wednesday\")\n",
        "    case 4 : print(\"thursday\")\n",
        "    case 5 : print(\"friday\")\n",
        "    case 6 : print(\"saturday\")\n",
        "    case 7 : print(\"sunday\")\n",
        "    case _ : print(\"holiday\")"
      ],
      "metadata": {
        "colab": {
          "base_uri": "https://localhost:8080/"
        },
        "id": "hlHRqXIKL9j7",
        "outputId": "9579a903-ceb5-4347-820b-9f5d971581ad"
      },
      "execution_count": null,
      "outputs": [
        {
          "output_type": "stream",
          "name": "stdout",
          "text": [
            "Enter a day number :5\n",
            "friday\n"
          ]
        }
      ]
    },
    {
      "cell_type": "code",
      "source": [
        "month = int(input(\"Enter a month number :\"))\n",
        "match month :\n",
        "    case 1 : print(\"jan\")\n",
        "    case 2 : print(\"feb\")\n",
        "    case 3 : print(\"mar\")\n",
        "    case 4 : print(\"apr\")\n",
        "    case 5 : print(\"may\")\n",
        "    case 6 : print(\"jun\")\n",
        "    case 7 : print(\"jul\")\n",
        "    case 8 : print(\"aug\")\n",
        "    case 9 : print(\"sep\")\n",
        "    case 10 : print(\"oct\")\n",
        "    case 11 : print(\"nov\")\n",
        "    case 12 : print(\"dec\")\n",
        "    case _ : print(\"invalid number\")\n"
      ],
      "metadata": {
        "colab": {
          "base_uri": "https://localhost:8080/"
        },
        "id": "iy8PwHxiNM9y",
        "outputId": "c02d60e4-e642-4617-9f1a-753b9395ff9e"
      },
      "execution_count": null,
      "outputs": [
        {
          "output_type": "stream",
          "name": "stdout",
          "text": [
            "Enter a month number :9\n",
            "sep\n"
          ]
        }
      ]
    },
    {
      "cell_type": "code",
      "source": [
        "num = 1\n",
        "while num <= 60 :\n",
        "     print(num,end= \" \" )\n",
        "     num += 1"
      ],
      "metadata": {
        "colab": {
          "base_uri": "https://localhost:8080/"
        },
        "id": "7M9O7XEwPt58",
        "outputId": "20744e4f-a0c0-4b89-a597-0479caa72185"
      },
      "execution_count": null,
      "outputs": [
        {
          "output_type": "stream",
          "name": "stdout",
          "text": [
            "1 2 3 4 5 6 7 8 9 10 11 12 13 14 15 16 17 18 19 20 21 22 23 24 25 26 27 28 29 30 31 32 33 34 35 36 37 38 39 40 41 42 43 44 45 46 47 48 49 50 51 52 53 54 55 56 57 58 59 60 "
          ]
        }
      ]
    },
    {
      "cell_type": "code",
      "source": [
        "# write a program sum of n natural numbers\n",
        "i = 1\n",
        "add = 0\n",
        "while i<=10 :\n",
        "    add = add + i\n",
        "    i = i + 1\n",
        "print(\"sum of natural number is :\", add)\n"
      ],
      "metadata": {
        "colab": {
          "base_uri": "https://localhost:8080/"
        },
        "id": "jti_SIh5R_ac",
        "outputId": "159123f0-8389-4b47-f701-2a4ee62f49a1"
      },
      "execution_count": null,
      "outputs": [
        {
          "output_type": "stream",
          "name": "stdout",
          "text": [
            "sum of natural number is : 55\n"
          ]
        }
      ]
    },
    {
      "cell_type": "code",
      "source": [
        "num = 5\n",
        "i = 1\n",
        "while i<=10 :\n",
        "  print(\"5 *\",i,\"=\",num*i)\n",
        "  i = i + 1\n"
      ],
      "metadata": {
        "colab": {
          "base_uri": "https://localhost:8080/"
        },
        "id": "21traM2vVNQ0",
        "outputId": "7004155c-14dc-4ec0-a86a-fa3d9256ddf2"
      },
      "execution_count": null,
      "outputs": [
        {
          "output_type": "stream",
          "name": "stdout",
          "text": [
            "5 * 1 = 5\n",
            "5 * 2 = 10\n",
            "5 * 3 = 15\n",
            "5 * 4 = 20\n",
            "5 * 5 = 25\n",
            "5 * 6 = 30\n",
            "5 * 7 = 35\n",
            "5 * 8 = 40\n",
            "5 * 9 = 45\n",
            "5 * 10 = 50\n"
          ]
        }
      ]
    },
    {
      "cell_type": "code",
      "source": [
        "num = 234\n",
        "rem = 0\n",
        "sum = 0\n",
        "temp = num\n",
        "while num > 0 :\n",
        "     rem = num % 10\n",
        "     sum = sum + rem * 3\n",
        "     num = num // 10\n",
        "if temp == sum :\n",
        "    print(\"armstrong number\")\n",
        "else:\n",
        "    print(\"not armstrong number\")"
      ],
      "metadata": {
        "colab": {
          "base_uri": "https://localhost:8080/"
        },
        "id": "q3ohWrH-XO0E",
        "outputId": "52f7bd15-5ca4-4af8-8b4b-c94730d19773"
      },
      "execution_count": null,
      "outputs": [
        {
          "output_type": "stream",
          "name": "stdout",
          "text": [
            "not armstrong number\n"
          ]
        }
      ]
    },
    {
      "cell_type": "code",
      "source": [
        "num = 12345\n",
        "rem = 0\n",
        "rev = 0\n",
        "temp = num\n",
        "while num > 0 :\n",
        "    rem = num % 10\n",
        "    rev = rev * 10 + rem\n",
        "    num = num // 10\n",
        "print(\"reverse number is :\", rev)"
      ],
      "metadata": {
        "colab": {
          "base_uri": "https://localhost:8080/"
        },
        "id": "etVI7lCegdxP",
        "outputId": "ac844573-e4f0-4c96-ee99-2e36e122dab1"
      },
      "execution_count": null,
      "outputs": [
        {
          "output_type": "stream",
          "name": "stdout",
          "text": [
            "reverse number is : 54321\n"
          ]
        }
      ]
    },
    {
      "cell_type": "code",
      "source": [
        "# Polindrom or not\n",
        "num = 12321\n",
        "rem = 0\n",
        "rev = 0\n",
        "temp = num\n",
        "while num > 0 :\n",
        "     rem = num % 10\n",
        "     rev = rev * 10 + rem"
      ],
      "metadata": {
        "id": "KSpJAA_zjmOY"
      },
      "execution_count": null,
      "outputs": []
    },
    {
      "cell_type": "code",
      "source": [
        "# print even number between 1 to 100\n",
        "i = 2\n",
        "while i <= 100 :\n",
        "    print(i,end = \" \" )\n",
        "    i+=2"
      ],
      "metadata": {
        "colab": {
          "base_uri": "https://localhost:8080/"
        },
        "id": "R-H2DIVWkQGo",
        "outputId": "da4733ca-a28b-485b-e3c8-c49964b89aa7"
      },
      "execution_count": null,
      "outputs": [
        {
          "output_type": "stream",
          "name": "stdout",
          "text": [
            "2 4 6 8 10 12 14 16 18 20 22 24 26 28 30 32 34 36 38 40 42 44 46 48 50 52 54 56 58 60 62 64 66 68 70 72 74 76 78 80 82 84 86 88 90 92 94 96 98 100 "
          ]
        }
      ]
    },
    {
      "cell_type": "code",
      "source": [
        "# print odd number between 1 to 100\n",
        "i = 1\n",
        "while i <= 100 :\n",
        "    print(i,end = \" \" )\n",
        "    i+=2"
      ],
      "metadata": {
        "colab": {
          "base_uri": "https://localhost:8080/"
        },
        "id": "8v5QoHk1ktgg",
        "outputId": "ebd75d29-95f9-41eb-ca3d-19113ca2097d"
      },
      "execution_count": null,
      "outputs": [
        {
          "output_type": "stream",
          "name": "stdout",
          "text": [
            "1 3 5 7 9 11 13 15 17 19 21 23 25 27 29 31 33 35 37 39 41 43 45 47 49 51 53 55 57 59 61 63 65 67 69 71 73 75 77 79 81 83 85 87 89 91 93 95 97 99 "
          ]
        }
      ]
    },
    {
      "cell_type": "code",
      "source": [
        "num, a, b = 10, 0, 1\n",
        "i = 0\n",
        "while i <= num :\n",
        "    print(a, end = \" \")\n",
        "    a, b = b, a+b\n",
        "    i+=1"
      ],
      "metadata": {
        "colab": {
          "base_uri": "https://localhost:8080/"
        },
        "id": "Q7-hHQfRliCy",
        "outputId": "a81093fa-2a62-446b-86d4-e9145e39a4ff"
      },
      "execution_count": null,
      "outputs": [
        {
          "output_type": "stream",
          "name": "stdout",
          "text": [
            "0 1 1 2 3 5 8 13 21 34 55 "
          ]
        }
      ]
    },
    {
      "cell_type": "code",
      "source": [
        "num = int(input(\"Enter a number value :\"))\n",
        "count = 0\n",
        "i = 1\n",
        "while i <= num :\n",
        "    if num % i == 0:\n",
        "       count+=1\n",
        "    i+=1\n",
        "if count == 2 :\n",
        "    print(\"prime number\")\n",
        "else:\n",
        "    print(\"not prime number\")"
      ],
      "metadata": {
        "colab": {
          "base_uri": "https://localhost:8080/"
        },
        "id": "AoH-c425mKZY",
        "outputId": "ca6994d9-9c28-4b44-ac68-62fc518870f0"
      },
      "execution_count": null,
      "outputs": [
        {
          "output_type": "stream",
          "name": "stdout",
          "text": [
            "Enter a number value :7\n",
            "prime number\n"
          ]
        }
      ]
    },
    {
      "cell_type": "code",
      "source": [
        "num = 10\n",
        "i = 0\n",
        "while num >= i :\n",
        "     print(num, end=\" \")\n",
        "     num-=1"
      ],
      "metadata": {
        "colab": {
          "base_uri": "https://localhost:8080/"
        },
        "id": "gPINgIZwnPXQ",
        "outputId": "65fa6148-b697-4015-ac3e-45ee30d74939"
      },
      "execution_count": null,
      "outputs": [
        {
          "output_type": "stream",
          "name": "stdout",
          "text": [
            "10 9 8 7 6 5 4 3 2 1 0 "
          ]
        }
      ]
    },
    {
      "cell_type": "code",
      "source": [
        "i = 10\n",
        "while i <= 1280 :\n",
        "     print(i,end=\" \")\n",
        "     i*=2"
      ],
      "metadata": {
        "colab": {
          "base_uri": "https://localhost:8080/"
        },
        "id": "iVVfGwyKoscY",
        "outputId": "3650a425-0841-462a-d671-feaf09983a56"
      },
      "execution_count": null,
      "outputs": [
        {
          "output_type": "stream",
          "name": "stdout",
          "text": [
            "10 20 40 80 160 320 640 1280 "
          ]
        }
      ]
    },
    {
      "cell_type": "code",
      "source": [
        "colours = ['blue','red','pink','black']\n",
        "print(type(colours))\n",
        "\n",
        "for i in colours :\n",
        "      print(i)"
      ],
      "metadata": {
        "colab": {
          "base_uri": "https://localhost:8080/"
        },
        "id": "d0xa-auy9jZZ",
        "outputId": "fe0798a7-9259-4f22-e82a-801b52acd785"
      },
      "execution_count": 142,
      "outputs": [
        {
          "output_type": "stream",
          "name": "stdout",
          "text": [
            "<class 'list'>\n",
            "blue\n",
            "red\n",
            "pink\n",
            "black\n"
          ]
        }
      ]
    },
    {
      "cell_type": "code",
      "source": [
        "numbers = {1,2,3,4,5,6,7,8,9}\n",
        "for i in numbers :\n",
        "    print(i)"
      ],
      "metadata": {
        "colab": {
          "base_uri": "https://localhost:8080/"
        },
        "id": "6127xT0c_ZQM",
        "outputId": "e52b9afd-4f8c-4a77-9e33-06a1ed5212e3"
      },
      "execution_count": 143,
      "outputs": [
        {
          "output_type": "stream",
          "name": "stdout",
          "text": [
            "1\n",
            "2\n",
            "3\n",
            "4\n",
            "5\n",
            "6\n",
            "7\n",
            "8\n",
            "9\n"
          ]
        }
      ]
    },
    {
      "cell_type": "code",
      "source": [
        "Name = \"KLE BK BCA College in Chikodi\"\n",
        "rev = \"\"\n",
        "for i in Name :\n",
        "    rev = i + rev\n",
        "print(rev)"
      ],
      "metadata": {
        "colab": {
          "base_uri": "https://localhost:8080/"
        },
        "id": "4V7DRf9GAfit",
        "outputId": "c03a740e-83c9-4475-ebe0-6c81ea29678c"
      },
      "execution_count": 145,
      "outputs": [
        {
          "output_type": "stream",
          "name": "stdout",
          "text": [
            "idokihC ni egelloC ACB KB ELK\n"
          ]
        }
      ]
    },
    {
      "cell_type": "code",
      "source": [
        "for i in range(1,10+1):\n",
        "    print(i)"
      ],
      "metadata": {
        "colab": {
          "base_uri": "https://localhost:8080/"
        },
        "id": "DqUj1Q37JzOH",
        "outputId": "39db6a6c-6e68-4371-819c-0e2c1b675c22"
      },
      "execution_count": 149,
      "outputs": [
        {
          "output_type": "stream",
          "name": "stdout",
          "text": [
            "1\n",
            "2\n",
            "3\n",
            "4\n",
            "5\n",
            "6\n",
            "7\n",
            "8\n",
            "9\n",
            "10\n"
          ]
        }
      ]
    },
    {
      "cell_type": "code",
      "source": [
        "i = 1\n",
        "add = 0\n",
        "while i<=10 :\n",
        "    add = add + i\n",
        "    i = i + 1\n",
        "print(\"sum of natural number is :\", add)\n"
      ],
      "metadata": {
        "colab": {
          "base_uri": "https://localhost:8080/"
        },
        "id": "BxcuxG4UHtq-",
        "outputId": "e7bbe092-5eac-4de0-8649-4228f1b210d9"
      },
      "execution_count": 152,
      "outputs": [
        {
          "output_type": "stream",
          "name": "stdout",
          "text": [
            "sum of natural number is : 55\n"
          ]
        }
      ]
    },
    {
      "cell_type": "code",
      "source": [
        "sum = 0\n",
        "for i in range(1,11):\n",
        "    sum+=i\n",
        "print(\"sum of N natural numbers is\", sum)"
      ],
      "metadata": {
        "colab": {
          "base_uri": "https://localhost:8080/"
        },
        "id": "petb3GaON7Yn",
        "outputId": "5354db13-085f-4084-b992-0f03329f4649"
      },
      "execution_count": 177,
      "outputs": [
        {
          "output_type": "stream",
          "name": "stdout",
          "text": [
            "sum of N natural numbers is 55\n"
          ]
        }
      ]
    },
    {
      "cell_type": "code",
      "source": [
        "i=1\n",
        "num=4\n",
        "for i in range(1,11):\n",
        "  print(\"4 *\",i,\"=\",num*i)"
      ],
      "metadata": {
        "colab": {
          "base_uri": "https://localhost:8080/"
        },
        "id": "WD6UcypePIC2",
        "outputId": "c8c7d350-aa2b-49b1-83f3-5c347a65faa4"
      },
      "execution_count": 165,
      "outputs": [
        {
          "output_type": "stream",
          "name": "stdout",
          "text": [
            "4 * 1 = 4\n",
            "4 * 2 = 8\n",
            "4 * 3 = 12\n",
            "4 * 4 = 16\n",
            "4 * 5 = 20\n",
            "4 * 6 = 24\n",
            "4 * 7 = 28\n",
            "4 * 8 = 32\n",
            "4 * 9 = 36\n",
            "4 * 10 = 40\n"
          ]
        }
      ]
    },
    {
      "cell_type": "code",
      "source": [
        "for i in range(2, 101, 2):\n",
        "    print(i,end=\" \")"
      ],
      "metadata": {
        "colab": {
          "base_uri": "https://localhost:8080/"
        },
        "id": "pImxtst3PzN2",
        "outputId": "55f0da55-c263-4abf-de21-de93374fa20d"
      },
      "execution_count": 170,
      "outputs": [
        {
          "output_type": "stream",
          "name": "stdout",
          "text": [
            "2 4 6 8 10 12 14 16 18 20 22 24 26 28 30 32 34 36 38 40 42 44 46 48 50 52 54 56 58 60 62 64 66 68 70 72 74 76 78 80 82 84 86 88 90 92 94 96 98 100 "
          ]
        }
      ]
    },
    {
      "cell_type": "code",
      "source": [
        "fact = 1\n",
        "for i in range(1,6):\n",
        "    fact = fact * i\n",
        "print(\"Factorial number is :\",fact)"
      ],
      "metadata": {
        "colab": {
          "base_uri": "https://localhost:8080/"
        },
        "id": "BrizqCByQtgO",
        "outputId": "7f7a2b4b-e609-4b99-b75a-e83d29de3090"
      },
      "execution_count": 180,
      "outputs": [
        {
          "output_type": "stream",
          "name": "stdout",
          "text": [
            "Factorial number is : 120\n"
          ]
        }
      ]
    },
    {
      "cell_type": "code",
      "source": [
        "# fiboncacci series / number using for loop\n",
        "# 0 1 1 2 3 5 8 13 21 34 55 89 144\n",
        "a, b = 0, 1\n",
        "for i in range(1,14):\n",
        "    print(a,end=\" \")\n",
        "    a, b = b, a+b\n",
        ""
      ],
      "metadata": {
        "colab": {
          "base_uri": "https://localhost:8080/"
        },
        "id": "t6ENFx05TQd9",
        "outputId": "49f9e3b3-b808-4d6a-9be1-9a2a8ea31d50"
      },
      "execution_count": 185,
      "outputs": [
        {
          "output_type": "stream",
          "name": "stdout",
          "text": [
            "0 1 1 2 3 5 8 13 21 34 55 89 144 "
          ]
        }
      ]
    },
    {
      "cell_type": "code",
      "source": [],
      "metadata": {
        "id": "eFLHUmwWWm-9"
      },
      "execution_count": null,
      "outputs": []
    }
  ]
}