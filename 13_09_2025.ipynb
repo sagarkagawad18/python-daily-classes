{
  "nbformat": 4,
  "nbformat_minor": 0,
  "metadata": {
    "colab": {
      "provenance": []
    },
    "kernelspec": {
      "name": "python3",
      "display_name": "Python 3"
    },
    "language_info": {
      "name": "python"
    }
  },
  "cells": [
    {
      "cell_type": "code",
      "execution_count": null,
      "metadata": {
        "colab": {
          "base_uri": "https://localhost:8080/"
        },
        "id": "iqHRlhhXKlmT",
        "outputId": "d6db35e0-72cb-410f-bc7a-a43dd5d5f2a4"
      },
      "outputs": [
        {
          "output_type": "stream",
          "name": "stdout",
          "text": [
            "good morning 18\n"
          ]
        }
      ],
      "source": [
        "a, b, c = \"good\", \"morning\", 18\n",
        "print(a, b, c)"
      ]
    },
    {
      "cell_type": "code",
      "source": [
        "# Hi, Good morning, I'm sagar, i'm studying BCA in BK college at chikodi, my roll number is 101\n",
        "\n",
        "Name, College, Degree, Roll= \"sagar\", \"BK\", \"BCA\", 101\n",
        "print(\"Hi, Good morning, I'm\", Name, \"i'm studying\", Degree, \"in\", College, \"at chikodi, my roll number is\", Roll)"
      ],
      "metadata": {
        "colab": {
          "base_uri": "https://localhost:8080/"
        },
        "id": "d_vvBuKxK5cD",
        "outputId": "8bde8255-24e1-4da5-f900-d0e79b3007ea"
      },
      "execution_count": null,
      "outputs": [
        {
          "output_type": "stream",
          "name": "stdout",
          "text": [
            "Hi, Good morning, I'm sagar i'm studying BCA in BK at chikodi, my roll number is 101\n"
          ]
        }
      ]
    },
    {
      "cell_type": "code",
      "source": [
        "A = 10\n",
        "print(type(A))"
      ],
      "metadata": {
        "colab": {
          "base_uri": "https://localhost:8080/"
        },
        "id": "wRX6O2FnVJVw",
        "outputId": "0711cd86-38be-4d7d-fddd-0b97405394ce"
      },
      "execution_count": null,
      "outputs": [
        {
          "output_type": "stream",
          "name": "stdout",
          "text": [
            "<class 'int'>\n"
          ]
        }
      ]
    },
    {
      "cell_type": "code",
      "source": [
        "x = 35\n",
        "print(type(x))"
      ],
      "metadata": {
        "colab": {
          "base_uri": "https://localhost:8080/"
        },
        "id": "oETZjsBPWzeP",
        "outputId": "d0901205-fc16-41ce-82b6-1552044fdf3a"
      },
      "execution_count": null,
      "outputs": [
        {
          "output_type": "stream",
          "name": "stdout",
          "text": [
            "<class 'int'>\n"
          ]
        }
      ]
    },
    {
      "cell_type": "code",
      "source": [
        "a = b, c = \"College\", 25\n",
        "print(b, c, a)"
      ],
      "metadata": {
        "colab": {
          "base_uri": "https://localhost:8080/"
        },
        "id": "s_oX7gZSQoSp",
        "outputId": "dc540f9e-0c71-4550-812f-3d40315a7a02"
      },
      "execution_count": null,
      "outputs": [
        {
          "output_type": "stream",
          "name": "stdout",
          "text": [
            "College 25 ('College', 25)\n"
          ]
        }
      ]
    },
    {
      "cell_type": "code",
      "source": [
        "x = y = z = 1001\n",
        "print(x,y,z)"
      ],
      "metadata": {
        "colab": {
          "base_uri": "https://localhost:8080/"
        },
        "id": "zYw651XZPCWO",
        "outputId": "cab1c6a1-e56b-49eb-acc0-e7320ec8efe1"
      },
      "execution_count": null,
      "outputs": [
        {
          "output_type": "stream",
          "name": "stdout",
          "text": [
            "1001 1001 1001\n"
          ]
        }
      ]
    },
    {
      "cell_type": "code",
      "source": [
        "# Addition of 10 and 20 is 30\n",
        "A = 10\n",
        "B = 20\n",
        "\n",
        "print(\"Addition of\",A,\"and\",B,\"is 30\")"
      ],
      "metadata": {
        "colab": {
          "base_uri": "https://localhost:8080/"
        },
        "id": "tIUb8uUGQ2xi",
        "outputId": "c11d5304-0f38-4bdb-d41c-684947140ccd"
      },
      "execution_count": null,
      "outputs": [
        {
          "output_type": "stream",
          "name": "stdout",
          "text": [
            "Addition of 10 and 20 is 30\n"
          ]
        }
      ]
    },
    {
      "cell_type": "code",
      "source": [
        "x = -100\n",
        "print(type(x))"
      ],
      "metadata": {
        "colab": {
          "base_uri": "https://localhost:8080/"
        },
        "id": "R4FFdIXQWanH",
        "outputId": "82c7e4fd-ee70-43c1-8c7a-4e34d123f82c"
      },
      "execution_count": null,
      "outputs": [
        {
          "output_type": "stream",
          "name": "stdout",
          "text": [
            "<class 'int'>\n"
          ]
        }
      ]
    },
    {
      "cell_type": "code",
      "source": [
        "system = +200\n",
        "print(type(system))"
      ],
      "metadata": {
        "colab": {
          "base_uri": "https://localhost:8080/"
        },
        "id": "sjSynQ47XYZv",
        "outputId": "0287971d-e824-458c-d0fd-4f0536091d26"
      },
      "execution_count": null,
      "outputs": [
        {
          "output_type": "stream",
          "name": "stdout",
          "text": [
            "<class 'int'>\n"
          ]
        }
      ]
    },
    {
      "cell_type": "code",
      "source": [
        "number = 10001\n",
        "print(type(number))"
      ],
      "metadata": {
        "colab": {
          "base_uri": "https://localhost:8080/"
        },
        "id": "-TsPkY-PXh-_",
        "outputId": "59ea9520-8023-4b97-a8d7-088711a4ad4e"
      },
      "execution_count": null,
      "outputs": [
        {
          "output_type": "stream",
          "name": "stdout",
          "text": [
            "<class 'int'>\n"
          ]
        }
      ]
    },
    {
      "cell_type": "code",
      "source": [
        "list = [101]\n",
        "print(type(list))\n",
        "print(list.append(\"basavaraj\"))\n"
      ],
      "metadata": {
        "colab": {
          "base_uri": "https://localhost:8080/"
        },
        "id": "l27z8VKiYxBk",
        "outputId": "0f7949fd-4988-4714-c042-6990821fd5b3"
      },
      "execution_count": null,
      "outputs": [
        {
          "output_type": "stream",
          "name": "stdout",
          "text": [
            "<class 'list'>\n",
            "None\n"
          ]
        }
      ]
    },
    {
      "cell_type": "code",
      "source": [
        "Details = [101]\n",
        "print(Details)\n",
        "print(type(Details))\n",
        "\n",
        "Details.append(85.12)\n",
        "print(Details)\n",
        "\n",
        "Details.append(True)\n",
        "print(Details)\n",
        "\n",
        "print(len(Details))\n",
        "print(Details.pop())\n",
        "print(Details)\n",
        "Details.append(\"sagar\")\n",
        "print(Details)\n",
        "\n",
        "Details.append(-99)\n",
        "print(len(Details))\n",
        "\n",
        "print(Details[2])\n",
        "print(Details[3])\n",
        "Details.append(\"BK college\")\n",
        "print(Details)\n",
        "Details[3] = 99\n",
        "print(Details)\n",
        "print(Details[2:4])\n",
        "Details.insert(2,False)\n",
        "print(Details)\n",
        "print(len(Details))\n",
        "Details.remove(False)\n",
        "print(Details)\n",
        "print(len(Details))\n",
        "print(Details[4])\n",
        "print(Details[::-1])\n",
        "print(Details.count(101))\n",
        "print(Details.clear())\n",
        "print(Details)\n",
        "print(type(Details))\n"
      ],
      "metadata": {
        "colab": {
          "base_uri": "https://localhost:8080/"
        },
        "id": "rguIqrgzLBb9",
        "outputId": "137c65f6-da18-425a-f465-9867b7fd3b31"
      },
      "execution_count": null,
      "outputs": [
        {
          "output_type": "stream",
          "name": "stdout",
          "text": [
            "[101]\n",
            "<class 'list'>\n",
            "[101, 85.12]\n",
            "[101, 85.12, True]\n",
            "3\n",
            "True\n",
            "[101, 85.12]\n",
            "[101, 85.12, 'sagar']\n",
            "4\n",
            "sagar\n",
            "-99\n",
            "[101, 85.12, 'sagar', -99, 'BK college']\n",
            "[101, 85.12, 'sagar', 99, 'BK college']\n",
            "['sagar', 99]\n",
            "[101, 85.12, False, 'sagar', 99, 'BK college']\n",
            "6\n",
            "[101, 85.12, 'sagar', 99, 'BK college']\n",
            "5\n",
            "BK college\n",
            "['BK college', 99, 'sagar', 85.12, 101]\n",
            "1\n",
            "None\n",
            "[]\n",
            "<class 'list'>\n",
            "[101]\n",
            "<class 'list'>\n",
            "[101, 85.12]\n",
            "[101, 85.12, True]\n",
            "3\n",
            "True\n",
            "[101, 85.12]\n",
            "[101, 85.12, 'sagar']\n",
            "4\n",
            "sagar\n",
            "-99\n",
            "[101, 85.12, 'sagar', -99, 'BK college']\n",
            "[101, 85.12, 'sagar', 99, 'BK college']\n",
            "['sagar', 99]\n",
            "[101, 85.12, False, 'sagar', 99, 'BK college']\n",
            "6\n",
            "[101, 85.12, 'sagar', 99, 'BK college']\n",
            "5\n",
            "BK college\n",
            "['BK college', 99, 'sagar', 85.12, 101]\n",
            "1\n",
            "None\n",
            "[]\n",
            "<class 'list'>\n"
          ]
        }
      ]
    }
  ]
}