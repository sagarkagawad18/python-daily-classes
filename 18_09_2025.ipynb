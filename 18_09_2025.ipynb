{
  "nbformat": 4,
  "nbformat_minor": 0,
  "metadata": {
    "colab": {
      "provenance": []
    },
    "kernelspec": {
      "name": "python3",
      "display_name": "Python 3"
    },
    "language_info": {
      "name": "python"
    }
  },
  "cells": [
    {
      "cell_type": "code",
      "execution_count": null,
      "metadata": {
        "colab": {
          "base_uri": "https://localhost:8080/"
        },
        "id": "mYczX0mS5Fof",
        "outputId": "df27c788-87f4-4943-e449-3a88966047d0"
      },
      "outputs": [
        {
          "output_type": "stream",
          "name": "stdout",
          "text": [
            "vowels in the sentencekle bk bca clg chikodi\n",
            "vowels in the word: ['e', 'a', 'i', 'o', 'i']\n"
          ]
        }
      ],
      "source": [
        "# kle bk bca clg chikodi\n",
        "word = input(\"vowels in the sentence\")\n",
        "\n",
        "vowels = \"aeiouAEIOU\"\n",
        "found = []\n",
        "\n",
        "for char in word:\n",
        "  if char in vowels:\n",
        "     found.append(char)\n",
        "print(\"vowels in the word:\", found)\n"
      ]
    },
    {
      "cell_type": "code",
      "source": [
        "sentence = \"python programming language\"\n",
        "count = 0\n",
        "for ch in sentence :\n",
        "   if ch in \"aeiou\" :\n",
        "      count +=1\n",
        "print(\"total vowels is :\",count)"
      ],
      "metadata": {
        "colab": {
          "base_uri": "https://localhost:8080/"
        },
        "id": "8EoRr75RDLpI",
        "outputId": "9a29d2f9-be63-4341-c104-4fc0a55f7812"
      },
      "execution_count": null,
      "outputs": [
        {
          "output_type": "stream",
          "name": "stdout",
          "text": [
            "total vowels is : 8\n"
          ]
        }
      ]
    },
    {
      "cell_type": "code",
      "source": [
        "base = 4\n",
        "height = 5\n",
        "triangle = 0.5 * base * height\n",
        "print(\"area of triangle is :\",triangle)"
      ],
      "metadata": {
        "colab": {
          "base_uri": "https://localhost:8080/"
        },
        "id": "6Gb0k609GSrB",
        "outputId": "c8c1f6ae-38ca-4677-eff2-5f281a8956ef"
      },
      "execution_count": null,
      "outputs": [
        {
          "output_type": "stream",
          "name": "stdout",
          "text": [
            "area of triangle is : 10.0\n"
          ]
        }
      ]
    },
    {
      "cell_type": "code",
      "source": [
        "red = 4\n",
        "area = 3.14 * red **2\n",
        "print(\"area of circle is :\",area)"
      ],
      "metadata": {
        "colab": {
          "base_uri": "https://localhost:8080/"
        },
        "id": "4rfQ4hEZH0s4",
        "outputId": "7483f191-8344-46b3-f7b7-f4dc68aee103"
      },
      "execution_count": null,
      "outputs": [
        {
          "output_type": "stream",
          "name": "stdout",
          "text": [
            "area of circle is : 50.24\n"
          ]
        }
      ]
    },
    {
      "cell_type": "code",
      "source": [
        "ex = [5,25,35,28,45,10,15]\n",
        "largest_number = ex[0]\n",
        "for num in ex:\n",
        "    if num > largest_number:\n",
        "        largest_number = num\n",
        "print(\"The largest number in the list is:\", largest_number)"
      ],
      "metadata": {
        "colab": {
          "base_uri": "https://localhost:8080/"
        },
        "id": "oQSdILd-IfIg",
        "outputId": "23e75e1e-af7d-40fe-d884-28e7b6d533b2"
      },
      "execution_count": null,
      "outputs": [
        {
          "output_type": "stream",
          "name": "stdout",
          "text": [
            "The largest number in the list is: 45\n"
          ]
        }
      ]
    },
    {
      "cell_type": "code",
      "source": [
        "sentens = \"Bachelor of computer science first semester section c\"\n",
        "count = 0\n",
        "vowels = \"aeiouAEIOU\"\n",
        "for ch in sentens:\n",
        "    if ch.isalpha() and ch not in vowels:\n",
        "        count += 1\n",
        "print(\"Total consonants is:\", count)\n"
      ],
      "metadata": {
        "colab": {
          "base_uri": "https://localhost:8080/"
        },
        "id": "iR7_Xt3fRURZ",
        "outputId": "df07e019-111e-4008-9b25-034cb0bbc18a"
      },
      "execution_count": null,
      "outputs": [
        {
          "output_type": "stream",
          "name": "stdout",
          "text": [
            "Total consonants is: 29\n"
          ]
        }
      ]
    },
    {
      "cell_type": "code",
      "source": [
        "bikes = [\"RX 100\", \"GT 650\",\"Ninja\",\"Splender\",\"Bajaj\",\"Pulsar\",\"NS 200\",\"M 80\",\"Unicorn\"]\n",
        "for bike in bikes:\n",
        "    if bike == \"NS 200\" :\n",
        "      break\n",
        "    print(bike)"
      ],
      "metadata": {
        "colab": {
          "base_uri": "https://localhost:8080/"
        },
        "id": "DCUjb-0UheYp",
        "outputId": "4287bd23-cc54-42aa-a3e4-02301f4028a4"
      },
      "execution_count": null,
      "outputs": [
        {
          "output_type": "stream",
          "name": "stdout",
          "text": [
            "RX 100\n",
            "GT 650\n",
            "Ninja\n",
            "Splender\n",
            "Bajaj\n",
            "Pulsar\n"
          ]
        }
      ]
    },
    {
      "cell_type": "code",
      "source": [
        "colours = {\"Purple\",\"Pink\",\"Black\",\"white\",\"Red\",\"Orange\",\"Levender\",\"Grey\",\"Yellow\",\"Maroon\"}\n",
        "for color in colours :\n",
        "    if color == \"Black\" :\n",
        "       break\n",
        "    print(color)"
      ],
      "metadata": {
        "colab": {
          "base_uri": "https://localhost:8080/"
        },
        "id": "ZWxG_6mcjjIL",
        "outputId": "4d2b3027-d722-47e3-acdc-2489f9c15957"
      },
      "execution_count": null,
      "outputs": [
        {
          "output_type": "stream",
          "name": "stdout",
          "text": [
            "white\n",
            "Levender\n",
            "Red\n",
            "Yellow\n",
            "Orange\n",
            "Maroon\n"
          ]
        }
      ]
    },
    {
      "cell_type": "code",
      "source": [
        "fruits = (\"Apple\",\"Orange\",\"Mango\",\"Strawberry\",\"Dragon fruit\",\"Greeps\",\"Banana\",\"pinapal\",\"pappaya\",\"Water melon\")\n",
        "for fruits in fruits :\n",
        "    if fruits == \"Greeps\" :\n",
        "       continue\n",
        "    print(fruits)"
      ],
      "metadata": {
        "colab": {
          "base_uri": "https://localhost:8080/"
        },
        "id": "47Dg9vmUk3x8",
        "outputId": "20d2cf2b-de74-44aa-9eff-9a8d0ca442dc"
      },
      "execution_count": null,
      "outputs": [
        {
          "output_type": "stream",
          "name": "stdout",
          "text": [
            "Apple\n",
            "Orange\n",
            "Mango\n",
            "Strawberry\n",
            "Dragon fruit\n",
            "Banana\n",
            "pinapal\n",
            "pappaya\n",
            "Water melon\n"
          ]
        }
      ]
    },
    {
      "cell_type": "code",
      "source": [
        "mobiles = {\"vivo\",\"RedMI\",\"OPPO\",\"vivo\",\"vivo\",\"vivo\",\"OPPO\",\"IQee\",\"vivo\",\"1 plus\"}\n",
        "for mobile in mobiles :\n",
        "    if mobile == \"vivo\" :\n",
        "       continue\n",
        "    print(mobile)"
      ],
      "metadata": {
        "colab": {
          "base_uri": "https://localhost:8080/"
        },
        "id": "soBMKIdeotLM",
        "outputId": "8f36961c-e1a8-49ae-bb08-de80ddc7bd12"
      },
      "execution_count": null,
      "outputs": [
        {
          "output_type": "stream",
          "name": "stdout",
          "text": [
            "IQee\n",
            "1 plus\n",
            "OPPO\n",
            "RedMI\n"
          ]
        }
      ]
    },
    {
      "cell_type": "code",
      "source": [
        "Movies = [\"KGF\",\"Chhava\",\"Bahubali\",\"Saiyara\",\"RRR\",\"Kalki\",\"kannadakagi onendonnu otti\"]\n",
        "for Movie in Movies :\n",
        "    if Movie == \"RRR\" :\n",
        "      break\n",
        "    print(Movie)"
      ],
      "metadata": {
        "colab": {
          "base_uri": "https://localhost:8080/"
        },
        "id": "YFfUFxUvrWl1",
        "outputId": "d00b5152-69c2-461d-a432-389d8ca2e4e3"
      },
      "execution_count": null,
      "outputs": [
        {
          "output_type": "stream",
          "name": "stdout",
          "text": [
            "KGF\n",
            "Chhava\n",
            "Bahubali\n",
            "Saiyara\n"
          ]
        }
      ]
    },
    {
      "cell_type": "code",
      "source": [
        "things = {\"Mobile\",\"Laptop\",\"Monitor\",\"tab\",\"Book\",\"pen\",\"Paper\"}\n",
        "for thing in things :\n",
        "   if thing == \"Mobile\" :\n",
        "      continue\n",
        "   print(thing)"
      ],
      "metadata": {
        "colab": {
          "base_uri": "https://localhost:8080/"
        },
        "id": "j06XYLtTsM7-",
        "outputId": "5bba879f-88e8-4b29-d452-6151c2bdd6b3"
      },
      "execution_count": null,
      "outputs": [
        {
          "output_type": "stream",
          "name": "stdout",
          "text": [
            "tab\n",
            "Paper\n",
            "Monitor\n",
            "Laptop\n",
            "Book\n",
            "pen\n"
          ]
        }
      ]
    },
    {
      "cell_type": "code",
      "source": [
        "for i in range(10) :\n",
        "  for j in range(10):\n",
        "    print(i,end=\" \")\n",
        "  print()"
      ],
      "metadata": {
        "colab": {
          "base_uri": "https://localhost:8080/"
        },
        "id": "WawkaWfzv2GN",
        "outputId": "92cb7f27-13a2-48c0-e6cc-1b8914cc9072"
      },
      "execution_count": null,
      "outputs": [
        {
          "output_type": "stream",
          "name": "stdout",
          "text": [
            "0 0 0 0 0 0 0 0 0 0 \n",
            "1 1 1 1 1 1 1 1 1 1 \n",
            "2 2 2 2 2 2 2 2 2 2 \n",
            "3 3 3 3 3 3 3 3 3 3 \n",
            "4 4 4 4 4 4 4 4 4 4 \n",
            "5 5 5 5 5 5 5 5 5 5 \n",
            "6 6 6 6 6 6 6 6 6 6 \n",
            "7 7 7 7 7 7 7 7 7 7 \n",
            "8 8 8 8 8 8 8 8 8 8 \n",
            "9 9 9 9 9 9 9 9 9 9 \n"
          ]
        }
      ]
    },
    {
      "cell_type": "code",
      "source": [
        "for i in range(1,11) :\n",
        "  for j in range(j ):\n",
        "    print(j,end=\" \")\n",
        "  print()"
      ],
      "metadata": {
        "colab": {
          "base_uri": "https://localhost:8080/"
        },
        "id": "YfjPwcUTyVft",
        "outputId": "e292d486-548b-4762-aa39-8767e46cdaaa"
      },
      "execution_count": null,
      "outputs": [
        {
          "output_type": "stream",
          "name": "stdout",
          "text": [
            "0 1 2 3 4 5 6 7 8 \n",
            "0 1 2 3 4 5 6 7 \n",
            "0 1 2 3 4 5 6 \n",
            "0 1 2 3 4 5 \n",
            "0 1 2 3 4 \n",
            "0 1 2 3 \n",
            "0 1 2 \n",
            "0 1 \n",
            "0 \n",
            "\n"
          ]
        }
      ]
    },
    {
      "cell_type": "code",
      "source": [
        "for i in range(5) :\n",
        "  for j in range(i+1,5):\n",
        "    print(\" \",end=\" \")\n",
        "  for j in range(5):\n",
        "    print(\"💀\",end=\" \")\n",
        "  print()"
      ],
      "metadata": {
        "id": "fBAHKMnZyycM",
        "colab": {
          "base_uri": "https://localhost:8080/"
        },
        "outputId": "a5a523a1-33a2-4d30-b431-76b1b3df6a38"
      },
      "execution_count": 48,
      "outputs": [
        {
          "output_type": "stream",
          "name": "stdout",
          "text": [
            "        💀 💀 💀 💀 💀 \n",
            "      💀 💀 💀 💀 💀 \n",
            "    💀 💀 💀 💀 💀 \n",
            "  💀 💀 💀 💀 💀 \n",
            "💀 💀 💀 💀 💀 \n"
          ]
        }
      ]
    },
    {
      "cell_type": "code",
      "source": [
        "row = 10\n",
        "col = 10\n",
        "for i in range(0,row):\n",
        "  for j in range(0,col):\n",
        "    if i == 0 or i == row-1 or j == 0 or j == col-1:\n",
        "      print(\"💀\",end=\" \")\n",
        "    else:\n",
        "      print(\" *\",end=\" \")\n",
        "  print()"
      ],
      "metadata": {
        "colab": {
          "base_uri": "https://localhost:8080/"
        },
        "id": "RQbPc89ZHaON",
        "outputId": "729af56b-7e23-4354-871a-b771664be307"
      },
      "execution_count": 64,
      "outputs": [
        {
          "output_type": "stream",
          "name": "stdout",
          "text": [
            "💀 💀 💀 💀 💀 💀 💀 💀 💀 💀 \n",
            "💀  *  *  *  *  *  *  *  * 💀 \n",
            "💀  *  *  *  *  *  *  *  * 💀 \n",
            "💀  *  *  *  *  *  *  *  * 💀 \n",
            "💀  *  *  *  *  *  *  *  * 💀 \n",
            "💀  *  *  *  *  *  *  *  * 💀 \n",
            "💀  *  *  *  *  *  *  *  * 💀 \n",
            "💀  *  *  *  *  *  *  *  * 💀 \n",
            "💀  *  *  *  *  *  *  *  * 💀 \n",
            "💀 💀 💀 💀 💀 💀 💀 💀 💀 💀 \n"
          ]
        }
      ]
    },
    {
      "cell_type": "code",
      "source": [
        "num = 7\n",
        "for i in range(0,num):\n",
        "  for j in range(0,num-i-1):\n",
        "      print(\" \",end=\" \")\n",
        "  for j in range(0,i*2+1):\n",
        "      print(\"⭐\",end=\" \")\n",
        "  print()"
      ],
      "metadata": {
        "colab": {
          "base_uri": "https://localhost:8080/"
        },
        "id": "s6_oeb2jNUfB",
        "outputId": "0a4418a1-2211-41a5-b271-cc8cd6798520"
      },
      "execution_count": 67,
      "outputs": [
        {
          "output_type": "stream",
          "name": "stdout",
          "text": [
            "            ⭐ \n",
            "          ⭐ ⭐ ⭐ \n",
            "        ⭐ ⭐ ⭐ ⭐ ⭐ \n",
            "      ⭐ ⭐ ⭐ ⭐ ⭐ ⭐ ⭐ \n",
            "    ⭐ ⭐ ⭐ ⭐ ⭐ ⭐ ⭐ ⭐ ⭐ \n",
            "  ⭐ ⭐ ⭐ ⭐ ⭐ ⭐ ⭐ ⭐ ⭐ ⭐ ⭐ \n",
            "⭐ ⭐ ⭐ ⭐ ⭐ ⭐ ⭐ ⭐ ⭐ ⭐ ⭐ ⭐ ⭐ \n"
          ]
        }
      ]
    },
    {
      "cell_type": "code",
      "source": [
        "def Example():\n",
        "  print(\"Good Afternoon\")\n",
        "Example()\n"
      ],
      "metadata": {
        "colab": {
          "base_uri": "https://localhost:8080/"
        },
        "id": "14ib8D2UR4bf",
        "outputId": "f9b7ddce-731e-4fb6-ea1a-98b930c2b796"
      },
      "execution_count": 68,
      "outputs": [
        {
          "output_type": "stream",
          "name": "stdout",
          "text": [
            "Good Afternoon\n"
          ]
        }
      ]
    },
    {
      "cell_type": "code",
      "source": [
        "def fun(num):\n",
        "   return num*num\n",
        "fun(4)"
      ],
      "metadata": {
        "colab": {
          "base_uri": "https://localhost:8080/"
        },
        "id": "IoKlTUVZZk66",
        "outputId": "4219a8cb-300f-4414-bac3-457ee46b86cf"
      },
      "execution_count": 77,
      "outputs": [
        {
          "output_type": "execute_result",
          "data": {
            "text/plain": [
              "16"
            ]
          },
          "metadata": {},
          "execution_count": 77
        }
      ]
    },
    {
      "cell_type": "code",
      "source": [
        "def add(a,b):\n",
        "    print(f'Addition of two numbers is {a+b}')\n",
        "add(5,10)"
      ],
      "metadata": {
        "colab": {
          "base_uri": "https://localhost:8080/"
        },
        "id": "Vi3HE8sbaM8K",
        "outputId": "25f19357-4d3b-4bed-d786-15456b5ce673"
      },
      "execution_count": 78,
      "outputs": [
        {
          "output_type": "stream",
          "name": "stdout",
          "text": [
            "Addition of two numbers is 15\n"
          ]
        }
      ]
    },
    {
      "cell_type": "code",
      "source": [
        "def Example(roll_number,name,section,department,college):\n",
        "    print(f\"My name is {name},i'm studying {department},in{college},college.My roll_number is {roll_number} and section is {section}\")\n",
        "Example(101,\"Basavaraj\",'A',\"BCA\",\"KLE\")"
      ],
      "metadata": {
        "colab": {
          "base_uri": "https://localhost:8080/"
        },
        "id": "OPfFjiQUdqKg",
        "outputId": "be251d72-8c03-4e2c-a08c-d2aaad9f07af"
      },
      "execution_count": 81,
      "outputs": [
        {
          "output_type": "stream",
          "name": "stdout",
          "text": [
            "My name is Basavaraj,i'm studying BCA,inKLE,college.My roll_number is 101 and section is A\n"
          ]
        }
      ]
    },
    {
      "cell_type": "code",
      "source": [
        "def fun(name,game,time):\n",
        "    print(f\"I'm {name}; i'm playing {game} at {time} time\")\n",
        "fun(time = \"Evening\",name = \"Sagar\",game = \"Cricket\")\n"
      ],
      "metadata": {
        "colab": {
          "base_uri": "https://localhost:8080/"
        },
        "id": "mdGBsLxRi0WO",
        "outputId": "328e8f9f-9175-49d2-bad2-7a5e8af398b4"
      },
      "execution_count": 84,
      "outputs": [
        {
          "output_type": "stream",
          "name": "stdout",
          "text": [
            "I'm Sagar; i'm playing Cricket at Evening time\n"
          ]
        }
      ]
    },
    {
      "cell_type": "code",
      "source": [
        "def Laptop(name = \"Lenova\"):\n",
        "    print(\"My laptop name is :\",name )\n",
        "Laptop(\"Dell\")\n",
        "Laptop(\"HP\")\n",
        "Laptop()\n",
        "Laptop(\"Asus\")"
      ],
      "metadata": {
        "colab": {
          "base_uri": "https://localhost:8080/"
        },
        "id": "4Cd02MvGkkjV",
        "outputId": "1ee2860f-cd64-4b46-e8cd-1afa4463c32b"
      },
      "execution_count": 85,
      "outputs": [
        {
          "output_type": "stream",
          "name": "stdout",
          "text": [
            "My laptop name is : Dell\n",
            "My laptop name is : HP\n",
            "My laptop name is : Lenova\n",
            "My laptop name is : Asus\n"
          ]
        }
      ]
    }
  ]
}